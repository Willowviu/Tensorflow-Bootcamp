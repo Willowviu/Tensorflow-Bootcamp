{
 "cells": [
  {
   "cell_type": "markdown",
   "metadata": {
    "collapsed": true
   },
   "source": [
    "# Classification Exercise"
   ]
  },
  {
   "cell_type": "markdown",
   "metadata": {},
   "source": [
    "We'll be working with some California Census Data, we'll be trying to use various features of an individual to predict what class of income they belogn in (>50k or <=50k). \n",
    "\n",
    "Here is some information about the data:"
   ]
  },
  {
   "cell_type": "markdown",
   "metadata": {},
   "source": [
    "<table>\n",
    "<thead>\n",
    "<tr>\n",
    "<th>Column Name</th>\n",
    "<th>Type</th>\n",
    "<th>Description</th>\n",
    "</tr>\n",
    "</thead>\n",
    "<tbody>\n",
    "<tr>\n",
    "<td>age</td>\n",
    "<td>Continuous</td>\n",
    "<td>The age of the individual</td>\n",
    "</tr>\n",
    "<tr>\n",
    "<td>workclass</td>\n",
    "<td>Categorical</td>\n",
    "<td>The type of employer the  individual has (government,  military, private, etc.).</td>\n",
    "</tr>\n",
    "<tr>\n",
    "<td>fnlwgt</td>\n",
    "<td>Continuous</td>\n",
    "<td>The number of people the census  takers believe that observation  represents (sample weight). This  variable will not be used.</td>\n",
    "</tr>\n",
    "<tr>\n",
    "<td>education</td>\n",
    "<td>Categorical</td>\n",
    "<td>The highest level of education  achieved for that individual.</td>\n",
    "</tr>\n",
    "<tr>\n",
    "<td>education_num</td>\n",
    "<td>Continuous</td>\n",
    "<td>The highest level of education in  numerical form.</td>\n",
    "</tr>\n",
    "<tr>\n",
    "<td>marital_status</td>\n",
    "<td>Categorical</td>\n",
    "<td>Marital status of the individual.</td>\n",
    "</tr>\n",
    "<tr>\n",
    "<td>occupation</td>\n",
    "<td>Categorical</td>\n",
    "<td>The occupation of the individual.</td>\n",
    "</tr>\n",
    "<tr>\n",
    "<td>relationship</td>\n",
    "<td>Categorical</td>\n",
    "<td>Wife, Own-child, Husband,  Not-in-family, Other-relative,  Unmarried.</td>\n",
    "</tr>\n",
    "<tr>\n",
    "<td>race</td>\n",
    "<td>Categorical</td>\n",
    "<td>White, Asian-Pac-Islander,  Amer-Indian-Eskimo, Other, Black.</td>\n",
    "</tr>\n",
    "<tr>\n",
    "<td>gender</td>\n",
    "<td>Categorical</td>\n",
    "<td>Female, Male.</td>\n",
    "</tr>\n",
    "<tr>\n",
    "<td>capital_gain</td>\n",
    "<td>Continuous</td>\n",
    "<td>Capital gains recorded.</td>\n",
    "</tr>\n",
    "<tr>\n",
    "<td>capital_loss</td>\n",
    "<td>Continuous</td>\n",
    "<td>Capital Losses recorded.</td>\n",
    "</tr>\n",
    "<tr>\n",
    "<td>hours_per_week</td>\n",
    "<td>Continuous</td>\n",
    "<td>Hours worked per week.</td>\n",
    "</tr>\n",
    "<tr>\n",
    "<td>native_country</td>\n",
    "<td>Categorical</td>\n",
    "<td>Country of origin of the  individual.</td>\n",
    "</tr>\n",
    "<tr>\n",
    "<td>income</td>\n",
    "<td>Categorical</td>\n",
    "<td>\"&gt;50K\" or \"&lt;=50K\", meaning  whether the person makes more  than \\$50,000 annually.</td>\n",
    "</tr>\n",
    "</tbody>\n",
    "</table>"
   ]
  },
  {
   "cell_type": "markdown",
   "metadata": {},
   "source": [
    "## Follow the Directions in Bold. If you get stuck, check out the solutions lecture."
   ]
  },
  {
   "cell_type": "markdown",
   "metadata": {},
   "source": [
    "### THE DATA"
   ]
  },
  {
   "cell_type": "markdown",
   "metadata": {},
   "source": [
    "** Read in the census_data.csv data with pandas**"
   ]
  },
  {
   "cell_type": "code",
   "execution_count": 84,
   "metadata": {},
   "outputs": [],
   "source": [
    "import pandas as pd"
   ]
  },
  {
   "cell_type": "code",
   "execution_count": 85,
   "metadata": {},
   "outputs": [],
   "source": [
    "census = pd.read_csv('census_data.csv')"
   ]
  },
  {
   "cell_type": "code",
   "execution_count": 86,
   "metadata": {},
   "outputs": [
    {
     "data": {
      "text/html": [
       "<div>\n",
       "<style>\n",
       "    .dataframe thead tr:only-child th {\n",
       "        text-align: right;\n",
       "    }\n",
       "\n",
       "    .dataframe thead th {\n",
       "        text-align: left;\n",
       "    }\n",
       "\n",
       "    .dataframe tbody tr th {\n",
       "        vertical-align: top;\n",
       "    }\n",
       "</style>\n",
       "<table border=\"1\" class=\"dataframe\">\n",
       "  <thead>\n",
       "    <tr style=\"text-align: right;\">\n",
       "      <th></th>\n",
       "      <th>age</th>\n",
       "      <th>workclass</th>\n",
       "      <th>education</th>\n",
       "      <th>education_num</th>\n",
       "      <th>marital_status</th>\n",
       "      <th>occupation</th>\n",
       "      <th>relationship</th>\n",
       "      <th>race</th>\n",
       "      <th>gender</th>\n",
       "      <th>capital_gain</th>\n",
       "      <th>capital_loss</th>\n",
       "      <th>hours_per_week</th>\n",
       "      <th>native_country</th>\n",
       "      <th>income_bracket</th>\n",
       "    </tr>\n",
       "  </thead>\n",
       "  <tbody>\n",
       "    <tr>\n",
       "      <th>0</th>\n",
       "      <td>39</td>\n",
       "      <td>State-gov</td>\n",
       "      <td>Bachelors</td>\n",
       "      <td>13</td>\n",
       "      <td>Never-married</td>\n",
       "      <td>Adm-clerical</td>\n",
       "      <td>Not-in-family</td>\n",
       "      <td>White</td>\n",
       "      <td>Male</td>\n",
       "      <td>2174</td>\n",
       "      <td>0</td>\n",
       "      <td>40</td>\n",
       "      <td>United-States</td>\n",
       "      <td>&lt;=50K</td>\n",
       "    </tr>\n",
       "    <tr>\n",
       "      <th>1</th>\n",
       "      <td>50</td>\n",
       "      <td>Self-emp-not-inc</td>\n",
       "      <td>Bachelors</td>\n",
       "      <td>13</td>\n",
       "      <td>Married-civ-spouse</td>\n",
       "      <td>Exec-managerial</td>\n",
       "      <td>Husband</td>\n",
       "      <td>White</td>\n",
       "      <td>Male</td>\n",
       "      <td>0</td>\n",
       "      <td>0</td>\n",
       "      <td>13</td>\n",
       "      <td>United-States</td>\n",
       "      <td>&lt;=50K</td>\n",
       "    </tr>\n",
       "    <tr>\n",
       "      <th>2</th>\n",
       "      <td>38</td>\n",
       "      <td>Private</td>\n",
       "      <td>HS-grad</td>\n",
       "      <td>9</td>\n",
       "      <td>Divorced</td>\n",
       "      <td>Handlers-cleaners</td>\n",
       "      <td>Not-in-family</td>\n",
       "      <td>White</td>\n",
       "      <td>Male</td>\n",
       "      <td>0</td>\n",
       "      <td>0</td>\n",
       "      <td>40</td>\n",
       "      <td>United-States</td>\n",
       "      <td>&lt;=50K</td>\n",
       "    </tr>\n",
       "    <tr>\n",
       "      <th>3</th>\n",
       "      <td>53</td>\n",
       "      <td>Private</td>\n",
       "      <td>11th</td>\n",
       "      <td>7</td>\n",
       "      <td>Married-civ-spouse</td>\n",
       "      <td>Handlers-cleaners</td>\n",
       "      <td>Husband</td>\n",
       "      <td>Black</td>\n",
       "      <td>Male</td>\n",
       "      <td>0</td>\n",
       "      <td>0</td>\n",
       "      <td>40</td>\n",
       "      <td>United-States</td>\n",
       "      <td>&lt;=50K</td>\n",
       "    </tr>\n",
       "    <tr>\n",
       "      <th>4</th>\n",
       "      <td>28</td>\n",
       "      <td>Private</td>\n",
       "      <td>Bachelors</td>\n",
       "      <td>13</td>\n",
       "      <td>Married-civ-spouse</td>\n",
       "      <td>Prof-specialty</td>\n",
       "      <td>Wife</td>\n",
       "      <td>Black</td>\n",
       "      <td>Female</td>\n",
       "      <td>0</td>\n",
       "      <td>0</td>\n",
       "      <td>40</td>\n",
       "      <td>Cuba</td>\n",
       "      <td>&lt;=50K</td>\n",
       "    </tr>\n",
       "  </tbody>\n",
       "</table>\n",
       "</div>"
      ],
      "text/plain": [
       "   age          workclass   education  education_num       marital_status  \\\n",
       "0   39          State-gov   Bachelors             13        Never-married   \n",
       "1   50   Self-emp-not-inc   Bachelors             13   Married-civ-spouse   \n",
       "2   38            Private     HS-grad              9             Divorced   \n",
       "3   53            Private        11th              7   Married-civ-spouse   \n",
       "4   28            Private   Bachelors             13   Married-civ-spouse   \n",
       "\n",
       "           occupation    relationship    race   gender  capital_gain  \\\n",
       "0        Adm-clerical   Not-in-family   White     Male          2174   \n",
       "1     Exec-managerial         Husband   White     Male             0   \n",
       "2   Handlers-cleaners   Not-in-family   White     Male             0   \n",
       "3   Handlers-cleaners         Husband   Black     Male             0   \n",
       "4      Prof-specialty            Wife   Black   Female             0   \n",
       "\n",
       "   capital_loss  hours_per_week  native_country income_bracket  \n",
       "0             0              40   United-States          <=50K  \n",
       "1             0              13   United-States          <=50K  \n",
       "2             0              40   United-States          <=50K  \n",
       "3             0              40   United-States          <=50K  \n",
       "4             0              40            Cuba          <=50K  "
      ]
     },
     "execution_count": 86,
     "metadata": {},
     "output_type": "execute_result"
    }
   ],
   "source": [
    "census.head()"
   ]
  },
  {
   "cell_type": "markdown",
   "metadata": {},
   "source": [
    "** TensorFlow won't be able to understand strings as labels, you'll need to use pandas .apply() method to apply a custom function that converts them to 0s and 1s. This might be hard if you aren't very familiar with pandas, so feel free to take a peek at the solutions for this part.**\n",
    "\n",
    "** Convert the Label column to 0s and 1s instead of strings.**"
   ]
  },
  {
   "cell_type": "code",
   "execution_count": 87,
   "metadata": {},
   "outputs": [
    {
     "data": {
      "text/plain": [
       "array([' <=50K', ' >50K'], dtype=object)"
      ]
     },
     "execution_count": 87,
     "metadata": {},
     "output_type": "execute_result"
    }
   ],
   "source": [
    "census['income_bracket'].unique()"
   ]
  },
  {
   "cell_type": "code",
   "execution_count": 88,
   "metadata": {},
   "outputs": [],
   "source": [
    "def label_fix(label):\n",
    "    if label == ' <=50K':\n",
    "        return 0\n",
    "    else:\n",
    "        return 1"
   ]
  },
  {
   "cell_type": "code",
   "execution_count": 89,
   "metadata": {},
   "outputs": [],
   "source": [
    "census['income_bracket'] = census['income_bracket'].apply(label_fix)"
   ]
  },
  {
   "cell_type": "code",
   "execution_count": 90,
   "metadata": {},
   "outputs": [
    {
     "data": {
      "text/html": [
       "<div>\n",
       "<style>\n",
       "    .dataframe thead tr:only-child th {\n",
       "        text-align: right;\n",
       "    }\n",
       "\n",
       "    .dataframe thead th {\n",
       "        text-align: left;\n",
       "    }\n",
       "\n",
       "    .dataframe tbody tr th {\n",
       "        vertical-align: top;\n",
       "    }\n",
       "</style>\n",
       "<table border=\"1\" class=\"dataframe\">\n",
       "  <thead>\n",
       "    <tr style=\"text-align: right;\">\n",
       "      <th></th>\n",
       "      <th>age</th>\n",
       "      <th>workclass</th>\n",
       "      <th>education</th>\n",
       "      <th>education_num</th>\n",
       "      <th>marital_status</th>\n",
       "      <th>occupation</th>\n",
       "      <th>relationship</th>\n",
       "      <th>race</th>\n",
       "      <th>gender</th>\n",
       "      <th>capital_gain</th>\n",
       "      <th>capital_loss</th>\n",
       "      <th>hours_per_week</th>\n",
       "      <th>native_country</th>\n",
       "      <th>income_bracket</th>\n",
       "    </tr>\n",
       "  </thead>\n",
       "  <tbody>\n",
       "    <tr>\n",
       "      <th>0</th>\n",
       "      <td>39</td>\n",
       "      <td>State-gov</td>\n",
       "      <td>Bachelors</td>\n",
       "      <td>13</td>\n",
       "      <td>Never-married</td>\n",
       "      <td>Adm-clerical</td>\n",
       "      <td>Not-in-family</td>\n",
       "      <td>White</td>\n",
       "      <td>Male</td>\n",
       "      <td>2174</td>\n",
       "      <td>0</td>\n",
       "      <td>40</td>\n",
       "      <td>United-States</td>\n",
       "      <td>0</td>\n",
       "    </tr>\n",
       "    <tr>\n",
       "      <th>1</th>\n",
       "      <td>50</td>\n",
       "      <td>Self-emp-not-inc</td>\n",
       "      <td>Bachelors</td>\n",
       "      <td>13</td>\n",
       "      <td>Married-civ-spouse</td>\n",
       "      <td>Exec-managerial</td>\n",
       "      <td>Husband</td>\n",
       "      <td>White</td>\n",
       "      <td>Male</td>\n",
       "      <td>0</td>\n",
       "      <td>0</td>\n",
       "      <td>13</td>\n",
       "      <td>United-States</td>\n",
       "      <td>0</td>\n",
       "    </tr>\n",
       "    <tr>\n",
       "      <th>2</th>\n",
       "      <td>38</td>\n",
       "      <td>Private</td>\n",
       "      <td>HS-grad</td>\n",
       "      <td>9</td>\n",
       "      <td>Divorced</td>\n",
       "      <td>Handlers-cleaners</td>\n",
       "      <td>Not-in-family</td>\n",
       "      <td>White</td>\n",
       "      <td>Male</td>\n",
       "      <td>0</td>\n",
       "      <td>0</td>\n",
       "      <td>40</td>\n",
       "      <td>United-States</td>\n",
       "      <td>0</td>\n",
       "    </tr>\n",
       "    <tr>\n",
       "      <th>3</th>\n",
       "      <td>53</td>\n",
       "      <td>Private</td>\n",
       "      <td>11th</td>\n",
       "      <td>7</td>\n",
       "      <td>Married-civ-spouse</td>\n",
       "      <td>Handlers-cleaners</td>\n",
       "      <td>Husband</td>\n",
       "      <td>Black</td>\n",
       "      <td>Male</td>\n",
       "      <td>0</td>\n",
       "      <td>0</td>\n",
       "      <td>40</td>\n",
       "      <td>United-States</td>\n",
       "      <td>0</td>\n",
       "    </tr>\n",
       "    <tr>\n",
       "      <th>4</th>\n",
       "      <td>28</td>\n",
       "      <td>Private</td>\n",
       "      <td>Bachelors</td>\n",
       "      <td>13</td>\n",
       "      <td>Married-civ-spouse</td>\n",
       "      <td>Prof-specialty</td>\n",
       "      <td>Wife</td>\n",
       "      <td>Black</td>\n",
       "      <td>Female</td>\n",
       "      <td>0</td>\n",
       "      <td>0</td>\n",
       "      <td>40</td>\n",
       "      <td>Cuba</td>\n",
       "      <td>0</td>\n",
       "    </tr>\n",
       "  </tbody>\n",
       "</table>\n",
       "</div>"
      ],
      "text/plain": [
       "   age          workclass   education  education_num       marital_status  \\\n",
       "0   39          State-gov   Bachelors             13        Never-married   \n",
       "1   50   Self-emp-not-inc   Bachelors             13   Married-civ-spouse   \n",
       "2   38            Private     HS-grad              9             Divorced   \n",
       "3   53            Private        11th              7   Married-civ-spouse   \n",
       "4   28            Private   Bachelors             13   Married-civ-spouse   \n",
       "\n",
       "           occupation    relationship    race   gender  capital_gain  \\\n",
       "0        Adm-clerical   Not-in-family   White     Male          2174   \n",
       "1     Exec-managerial         Husband   White     Male             0   \n",
       "2   Handlers-cleaners   Not-in-family   White     Male             0   \n",
       "3   Handlers-cleaners         Husband   Black     Male             0   \n",
       "4      Prof-specialty            Wife   Black   Female             0   \n",
       "\n",
       "   capital_loss  hours_per_week  native_country  income_bracket  \n",
       "0             0              40   United-States               0  \n",
       "1             0              13   United-States               0  \n",
       "2             0              40   United-States               0  \n",
       "3             0              40   United-States               0  \n",
       "4             0              40            Cuba               0  "
      ]
     },
     "execution_count": 90,
     "metadata": {},
     "output_type": "execute_result"
    }
   ],
   "source": [
    "census.head()"
   ]
  },
  {
   "cell_type": "markdown",
   "metadata": {},
   "source": [
    "### Perform a Train Test Split on the Data"
   ]
  },
  {
   "cell_type": "code",
   "execution_count": 91,
   "metadata": {},
   "outputs": [],
   "source": [
    "from sklearn.model_selection import train_test_split"
   ]
  },
  {
   "cell_type": "code",
   "execution_count": 92,
   "metadata": {},
   "outputs": [],
   "source": [
    "x_data = census.drop('income_bracket',axis=1)"
   ]
  },
  {
   "cell_type": "code",
   "execution_count": 93,
   "metadata": {},
   "outputs": [],
   "source": [
    "y_labels = census['income_bracket']"
   ]
  },
  {
   "cell_type": "code",
   "execution_count": 94,
   "metadata": {},
   "outputs": [],
   "source": [
    "X_train, X_test, y_train, y_test = train_test_split(x_data, y_labels, test_size=0.3, random_state=101)"
   ]
  },
  {
   "cell_type": "markdown",
   "metadata": {},
   "source": [
    "### Create the Feature Columns for tf.esitmator\n",
    "\n",
    "** Take note of categorical vs continuous values! **"
   ]
  },
  {
   "cell_type": "code",
   "execution_count": 95,
   "metadata": {},
   "outputs": [
    {
     "data": {
      "text/plain": [
       "Index(['age', 'workclass', 'education', 'education_num', 'marital_status',\n",
       "       'occupation', 'relationship', 'race', 'gender', 'capital_gain',\n",
       "       'capital_loss', 'hours_per_week', 'native_country', 'income_bracket'],\n",
       "      dtype='object')"
      ]
     },
     "execution_count": 95,
     "metadata": {},
     "output_type": "execute_result"
    }
   ],
   "source": [
    "census.columns"
   ]
  },
  {
   "cell_type": "markdown",
   "metadata": {},
   "source": [
    "** Import Tensorflow **"
   ]
  },
  {
   "cell_type": "code",
   "execution_count": 96,
   "metadata": {},
   "outputs": [],
   "source": [
    "import tensorflow as tf"
   ]
  },
  {
   "cell_type": "markdown",
   "metadata": {
    "collapsed": true
   },
   "source": [
    "** Create the tf.feature_columns for the categorical values. Use vocabulary lists or just use hash buckets. **"
   ]
  },
  {
   "cell_type": "code",
   "execution_count": 97,
   "metadata": {},
   "outputs": [],
   "source": [
    "gender = tf.feature_column.categorical_column_with_vocabulary_list(\"gender\",['Female','Male'])"
   ]
  },
  {
   "cell_type": "code",
   "execution_count": 98,
   "metadata": {},
   "outputs": [],
   "source": [
    "occupation = tf.feature_column.categorical_column_with_hash_bucket(\"occupation\",hash_bucket_size=1000)"
   ]
  },
  {
   "cell_type": "code",
   "execution_count": 99,
   "metadata": {},
   "outputs": [],
   "source": [
    "marital_status = tf.feature_column.categorical_column_with_hash_bucket(\"marital_status\", hash_bucket_size=1000)\n",
    "relationship = tf.feature_column.categorical_column_with_hash_bucket(\"relationship\", hash_bucket_size=1000)\n",
    "education = tf.feature_column.categorical_column_with_hash_bucket(\"education\", hash_bucket_size=1000)\n",
    "workclass = tf.feature_column.categorical_column_with_hash_bucket(\"workclass\", hash_bucket_size=1000)\n",
    "native_country = tf.feature_column.categorical_column_with_hash_bucket(\"native_country\", hash_bucket_size=1000)"
   ]
  },
  {
   "cell_type": "markdown",
   "metadata": {},
   "source": [
    "** Create the continuous feature_columns for the continuous values using numeric_column **"
   ]
  },
  {
   "cell_type": "code",
   "execution_count": 100,
   "metadata": {},
   "outputs": [],
   "source": [
    "age = tf.feature_column.numeric_column(\"age\")"
   ]
  },
  {
   "cell_type": "code",
   "execution_count": 101,
   "metadata": {},
   "outputs": [],
   "source": [
    "education_num = tf.feature_column.numeric_column(\"education_num\")\n",
    "capital_gain = tf.feature_column.numeric_column(\"capital_gain\")\n",
    "capital_loss = tf.feature_column.numeric_column(\"capital_loss\")\n",
    "hours_per_week = tf.feature_column.numeric_column(\"hours_per_week\")"
   ]
  },
  {
   "cell_type": "markdown",
   "metadata": {},
   "source": [
    "** Put all these variables into a single list with the variable name feat_cols **"
   ]
  },
  {
   "cell_type": "code",
   "execution_count": 102,
   "metadata": {},
   "outputs": [],
   "source": [
    "feat_cols = [gender,occupation,marital_status,relationship,education,workclass,native_country,\n",
    "            age,education_num,capital_gain,capital_loss,hours_per_week]"
   ]
  },
  {
   "cell_type": "markdown",
   "metadata": {},
   "source": [
    "### Create Input Function\n",
    "\n",
    "** Batch_size is up to you. But do make sure to shuffle!**"
   ]
  },
  {
   "cell_type": "code",
   "execution_count": 103,
   "metadata": {},
   "outputs": [],
   "source": [
    "input_func = tf.estimator.inputs.pandas_input_fn(x=X_train,y=y_train,batch_size=100,num_epochs=None,shuffle=True)"
   ]
  },
  {
   "cell_type": "markdown",
   "metadata": {},
   "source": [
    "#### Create your model with tf.estimator\n",
    "\n",
    "**Create a LinearClassifier.(If you want to use a DNNClassifier, keep in mind you'll need to create embedded columns out of the cateogrical feature that use strings, check out the previous lecture on this for more info.)**"
   ]
  },
  {
   "cell_type": "code",
   "execution_count": 104,
   "metadata": {},
   "outputs": [
    {
     "name": "stdout",
     "output_type": "stream",
     "text": [
      "INFO:tensorflow:Using default config.\n",
      "WARNING:tensorflow:Using temporary folder as model directory: C:\\Users\\ptdem\\AppData\\Local\\Temp\\tmp5g7_gkzg\n",
      "INFO:tensorflow:Using config: {'_model_dir': 'C:\\\\Users\\\\ptdem\\\\AppData\\\\Local\\\\Temp\\\\tmp5g7_gkzg', '_session_config': None, '_num_worker_replicas': 1, '_num_ps_replicas': 0, '_task_id': 0, '_is_chief': True, '_keep_checkpoint_every_n_hours': 10000, '_save_checkpoints_secs': 600, '_keep_checkpoint_max': 5, '_task_type': 'worker', '_master': '', '_service': None, '_save_checkpoints_steps': None, '_global_id_in_cluster': 0, '_evaluation_master': '', '_device_fn': None, '_log_step_count_steps': 100, '_save_summary_steps': 100, '_tf_random_seed': None, '_cluster_spec': <tensorflow.python.training.server_lib.ClusterSpec object at 0x000002B6F56D11D0>, '_train_distribute': None}\n"
     ]
    }
   ],
   "source": [
    "model = tf.estimator.LinearClassifier(feature_columns=feat_cols)"
   ]
  },
  {
   "cell_type": "markdown",
   "metadata": {},
   "source": [
    "** Train your model on the data, for at least 5000 steps. **"
   ]
  },
  {
   "cell_type": "code",
   "execution_count": 105,
   "metadata": {},
   "outputs": [
    {
     "name": "stdout",
     "output_type": "stream",
     "text": [
      "INFO:tensorflow:Calling model_fn.\n",
      "INFO:tensorflow:Done calling model_fn.\n",
      "INFO:tensorflow:Create CheckpointSaverHook.\n",
      "INFO:tensorflow:Graph was finalized.\n",
      "INFO:tensorflow:Running local_init_op.\n",
      "INFO:tensorflow:Done running local_init_op.\n",
      "INFO:tensorflow:Saving checkpoints for 0 into C:\\Users\\ptdem\\AppData\\Local\\Temp\\tmp5g7_gkzg\\model.ckpt.\n",
      "INFO:tensorflow:loss = 69.31474, step = 1\n",
      "INFO:tensorflow:global_step/sec: 108.897\n",
      "INFO:tensorflow:loss = 424.52335, step = 101 (0.922 sec)\n",
      "INFO:tensorflow:global_step/sec: 202.852\n",
      "INFO:tensorflow:loss = 489.29938, step = 201 (0.493 sec)\n",
      "INFO:tensorflow:global_step/sec: 200.226\n",
      "INFO:tensorflow:loss = 383.81433, step = 301 (0.497 sec)\n",
      "INFO:tensorflow:global_step/sec: 222.618\n",
      "INFO:tensorflow:loss = 73.872116, step = 401 (0.451 sec)\n",
      "INFO:tensorflow:global_step/sec: 242.19\n",
      "INFO:tensorflow:loss = 490.8133, step = 501 (0.410 sec)\n",
      "INFO:tensorflow:global_step/sec: 252.386\n",
      "INFO:tensorflow:loss = 62.843037, step = 601 (0.397 sec)\n",
      "INFO:tensorflow:global_step/sec: 248.678\n",
      "INFO:tensorflow:loss = 108.8425, step = 701 (0.400 sec)\n",
      "INFO:tensorflow:global_step/sec: 260.449\n",
      "INFO:tensorflow:loss = 24.810766, step = 801 (0.387 sec)\n",
      "INFO:tensorflow:global_step/sec: 242.683\n",
      "INFO:tensorflow:loss = 174.98624, step = 901 (0.412 sec)\n",
      "INFO:tensorflow:global_step/sec: 268.385\n",
      "INFO:tensorflow:loss = 37.20957, step = 1001 (0.372 sec)\n",
      "INFO:tensorflow:global_step/sec: 294.043\n",
      "INFO:tensorflow:loss = 257.7865, step = 1101 (0.338 sec)\n",
      "INFO:tensorflow:global_step/sec: 298.014\n",
      "INFO:tensorflow:loss = 72.93163, step = 1201 (0.338 sec)\n",
      "INFO:tensorflow:global_step/sec: 316.302\n",
      "INFO:tensorflow:loss = 272.052, step = 1301 (0.316 sec)\n",
      "INFO:tensorflow:global_step/sec: 266.908\n",
      "INFO:tensorflow:loss = 63.751457, step = 1401 (0.387 sec)\n",
      "INFO:tensorflow:global_step/sec: 259.886\n",
      "INFO:tensorflow:loss = 21.921535, step = 1501 (0.379 sec)\n",
      "INFO:tensorflow:global_step/sec: 212.521\n",
      "INFO:tensorflow:loss = 98.28005, step = 1601 (0.465 sec)\n",
      "INFO:tensorflow:global_step/sec: 232.019\n",
      "INFO:tensorflow:loss = 335.3614, step = 1701 (0.431 sec)\n",
      "INFO:tensorflow:global_step/sec: 276.786\n",
      "INFO:tensorflow:loss = 214.72421, step = 1801 (0.361 sec)\n",
      "INFO:tensorflow:global_step/sec: 295.943\n",
      "INFO:tensorflow:loss = 33.85051, step = 1901 (0.338 sec)\n",
      "INFO:tensorflow:global_step/sec: 290.661\n",
      "INFO:tensorflow:loss = 33.230354, step = 2001 (0.344 sec)\n",
      "INFO:tensorflow:global_step/sec: 285.016\n",
      "INFO:tensorflow:loss = 126.26756, step = 2101 (0.351 sec)\n",
      "INFO:tensorflow:global_step/sec: 305.313\n",
      "INFO:tensorflow:loss = 38.0393, step = 2201 (0.328 sec)\n",
      "INFO:tensorflow:global_step/sec: 240.725\n",
      "INFO:tensorflow:loss = 53.91829, step = 2301 (0.415 sec)\n",
      "INFO:tensorflow:global_step/sec: 229.094\n",
      "INFO:tensorflow:loss = 264.32257, step = 2401 (0.433 sec)\n",
      "INFO:tensorflow:global_step/sec: 271.807\n",
      "INFO:tensorflow:loss = 79.32483, step = 2501 (0.372 sec)\n",
      "INFO:tensorflow:global_step/sec: 166.423\n",
      "INFO:tensorflow:loss = 322.94547, step = 2601 (0.601 sec)\n",
      "INFO:tensorflow:global_step/sec: 198.157\n",
      "INFO:tensorflow:loss = 60.63054, step = 2701 (0.505 sec)\n",
      "INFO:tensorflow:global_step/sec: 198.552\n",
      "INFO:tensorflow:loss = 67.554886, step = 2801 (0.506 sec)\n",
      "INFO:tensorflow:global_step/sec: 195.453\n",
      "INFO:tensorflow:loss = 37.485744, step = 2901 (0.508 sec)\n",
      "INFO:tensorflow:global_step/sec: 189.273\n",
      "INFO:tensorflow:loss = 42.214, step = 3001 (0.529 sec)\n",
      "INFO:tensorflow:global_step/sec: 215.273\n",
      "INFO:tensorflow:loss = 47.59389, step = 3101 (0.465 sec)\n",
      "INFO:tensorflow:global_step/sec: 226.73\n",
      "INFO:tensorflow:loss = 68.229034, step = 3201 (0.442 sec)\n",
      "INFO:tensorflow:global_step/sec: 221.338\n",
      "INFO:tensorflow:loss = 44.384098, step = 3301 (0.454 sec)\n",
      "INFO:tensorflow:global_step/sec: 214.575\n",
      "INFO:tensorflow:loss = 25.110823, step = 3401 (0.464 sec)\n",
      "INFO:tensorflow:global_step/sec: 248.186\n",
      "INFO:tensorflow:loss = 38.023697, step = 3501 (0.400 sec)\n",
      "INFO:tensorflow:global_step/sec: 224.733\n",
      "INFO:tensorflow:loss = 56.64509, step = 3601 (0.448 sec)\n",
      "INFO:tensorflow:global_step/sec: 231.56\n",
      "INFO:tensorflow:loss = 210.97186, step = 3701 (0.433 sec)\n",
      "INFO:tensorflow:global_step/sec: 214.066\n",
      "INFO:tensorflow:loss = 33.60193, step = 3801 (0.467 sec)\n",
      "INFO:tensorflow:global_step/sec: 218.925\n",
      "INFO:tensorflow:loss = 142.0419, step = 3901 (0.456 sec)\n",
      "INFO:tensorflow:global_step/sec: 220.099\n",
      "INFO:tensorflow:loss = 80.35159, step = 4001 (0.454 sec)\n",
      "INFO:tensorflow:global_step/sec: 204.606\n",
      "INFO:tensorflow:loss = 24.653866, step = 4101 (0.491 sec)\n",
      "INFO:tensorflow:global_step/sec: 235.917\n",
      "INFO:tensorflow:loss = 58.93114, step = 4201 (0.421 sec)\n",
      "INFO:tensorflow:global_step/sec: 259.089\n",
      "INFO:tensorflow:loss = 147.11375, step = 4301 (0.386 sec)\n",
      "INFO:tensorflow:global_step/sec: 250.449\n",
      "INFO:tensorflow:loss = 49.563087, step = 4401 (0.400 sec)\n",
      "INFO:tensorflow:global_step/sec: 236.451\n",
      "INFO:tensorflow:loss = 45.832245, step = 4501 (0.425 sec)\n",
      "INFO:tensorflow:global_step/sec: 196.454\n",
      "INFO:tensorflow:loss = 25.396202, step = 4601 (0.509 sec)\n",
      "INFO:tensorflow:global_step/sec: 180.61\n",
      "INFO:tensorflow:loss = 41.492493, step = 4701 (0.552 sec)\n",
      "INFO:tensorflow:global_step/sec: 203.947\n",
      "INFO:tensorflow:loss = 56.095337, step = 4801 (0.490 sec)\n",
      "INFO:tensorflow:global_step/sec: 213.86\n",
      "INFO:tensorflow:loss = 38.493095, step = 4901 (0.468 sec)\n",
      "INFO:tensorflow:global_step/sec: 198.117\n",
      "INFO:tensorflow:loss = 40.381023, step = 5001 (0.503 sec)\n",
      "INFO:tensorflow:global_step/sec: 228.922\n",
      "INFO:tensorflow:loss = 36.017365, step = 5101 (0.438 sec)\n",
      "INFO:tensorflow:global_step/sec: 222.75\n",
      "INFO:tensorflow:loss = 39.67829, step = 5201 (0.449 sec)\n",
      "INFO:tensorflow:global_step/sec: 230.215\n",
      "INFO:tensorflow:loss = 60.964027, step = 5301 (0.434 sec)\n",
      "INFO:tensorflow:global_step/sec: 224.474\n",
      "INFO:tensorflow:loss = 108.16062, step = 5401 (0.444 sec)\n",
      "INFO:tensorflow:global_step/sec: 222.847\n",
      "INFO:tensorflow:loss = 85.50232, step = 5501 (0.450 sec)\n",
      "INFO:tensorflow:global_step/sec: 217.987\n",
      "INFO:tensorflow:loss = 48.655968, step = 5601 (0.459 sec)\n",
      "INFO:tensorflow:global_step/sec: 228.002\n",
      "INFO:tensorflow:loss = 49.060905, step = 5701 (0.439 sec)\n",
      "INFO:tensorflow:global_step/sec: 223.231\n",
      "INFO:tensorflow:loss = 217.45384, step = 5801 (0.448 sec)\n",
      "INFO:tensorflow:global_step/sec: 221.838\n",
      "INFO:tensorflow:loss = 39.51621, step = 5901 (0.452 sec)\n",
      "INFO:tensorflow:global_step/sec: 205.79\n",
      "INFO:tensorflow:loss = 29.705223, step = 6001 (0.484 sec)\n",
      "INFO:tensorflow:global_step/sec: 219.925\n",
      "INFO:tensorflow:loss = 68.66461, step = 6101 (0.466 sec)\n",
      "INFO:tensorflow:global_step/sec: 219.158\n",
      "INFO:tensorflow:loss = 20.568634, step = 6201 (0.446 sec)\n",
      "INFO:tensorflow:global_step/sec: 218.405\n",
      "INFO:tensorflow:loss = 40.00988, step = 6301 (0.458 sec)\n",
      "INFO:tensorflow:global_step/sec: 221.43\n",
      "INFO:tensorflow:loss = 42.264923, step = 6401 (0.452 sec)\n",
      "INFO:tensorflow:global_step/sec: 223.422\n",
      "INFO:tensorflow:loss = 56.350143, step = 6501 (0.448 sec)\n",
      "INFO:tensorflow:global_step/sec: 213.116\n",
      "INFO:tensorflow:loss = 125.259674, step = 6601 (0.469 sec)\n",
      "INFO:tensorflow:global_step/sec: 195.415\n",
      "INFO:tensorflow:loss = 32.478035, step = 6701 (0.513 sec)\n",
      "INFO:tensorflow:global_step/sec: 198.305\n",
      "INFO:tensorflow:loss = 46.897545, step = 6801 (0.501 sec)\n",
      "INFO:tensorflow:global_step/sec: 175.623\n",
      "INFO:tensorflow:loss = 45.878433, step = 6901 (0.570 sec)\n",
      "INFO:tensorflow:global_step/sec: 167.809\n",
      "INFO:tensorflow:loss = 49.63374, step = 7001 (0.598 sec)\n",
      "INFO:tensorflow:global_step/sec: 193.567\n",
      "INFO:tensorflow:loss = 84.86717, step = 7101 (0.516 sec)\n",
      "INFO:tensorflow:global_step/sec: 222.612\n",
      "INFO:tensorflow:loss = 47.775566, step = 7201 (0.449 sec)\n",
      "INFO:tensorflow:global_step/sec: 216.714\n",
      "INFO:tensorflow:loss = 47.25702, step = 7301 (0.461 sec)\n",
      "INFO:tensorflow:global_step/sec: 223.313\n",
      "INFO:tensorflow:loss = 32.965576, step = 7401 (0.448 sec)\n",
      "INFO:tensorflow:global_step/sec: 230.757\n",
      "INFO:tensorflow:loss = 31.766146, step = 7501 (0.433 sec)\n",
      "INFO:tensorflow:global_step/sec: 230.048\n",
      "INFO:tensorflow:loss = 40.09018, step = 7601 (0.434 sec)\n",
      "INFO:tensorflow:global_step/sec: 234.82\n",
      "INFO:tensorflow:loss = 46.051003, step = 7701 (0.425 sec)\n",
      "INFO:tensorflow:global_step/sec: 233.723\n",
      "INFO:tensorflow:loss = 92.22266, step = 7801 (0.431 sec)\n",
      "INFO:tensorflow:global_step/sec: 224.811\n",
      "INFO:tensorflow:loss = 26.232033, step = 7901 (0.442 sec)\n",
      "INFO:tensorflow:global_step/sec: 237.601\n"
     ]
    },
    {
     "name": "stdout",
     "output_type": "stream",
     "text": [
      "INFO:tensorflow:loss = 82.91705, step = 8001 (0.423 sec)\n",
      "INFO:tensorflow:global_step/sec: 191.351\n",
      "INFO:tensorflow:loss = 90.988655, step = 8101 (0.523 sec)\n",
      "INFO:tensorflow:global_step/sec: 210.163\n",
      "INFO:tensorflow:loss = 51.589752, step = 8201 (0.476 sec)\n",
      "INFO:tensorflow:global_step/sec: 226.313\n",
      "INFO:tensorflow:loss = 26.350246, step = 8301 (0.444 sec)\n",
      "INFO:tensorflow:global_step/sec: 222.817\n",
      "INFO:tensorflow:loss = 43.917683, step = 8401 (0.448 sec)\n",
      "INFO:tensorflow:global_step/sec: 228.749\n",
      "INFO:tensorflow:loss = 62.54637, step = 8501 (0.436 sec)\n",
      "INFO:tensorflow:global_step/sec: 243.926\n",
      "INFO:tensorflow:loss = 50.475845, step = 8601 (0.408 sec)\n",
      "INFO:tensorflow:global_step/sec: 222.573\n",
      "INFO:tensorflow:loss = 46.000896, step = 8701 (0.451 sec)\n",
      "INFO:tensorflow:global_step/sec: 222.317\n",
      "INFO:tensorflow:loss = 32.784466, step = 8801 (0.450 sec)\n",
      "INFO:tensorflow:global_step/sec: 224.704\n",
      "INFO:tensorflow:loss = 27.879898, step = 8901 (0.444 sec)\n",
      "INFO:tensorflow:global_step/sec: 227.582\n",
      "INFO:tensorflow:loss = 78.444565, step = 9001 (0.440 sec)\n",
      "INFO:tensorflow:global_step/sec: 224.384\n",
      "INFO:tensorflow:loss = 40.42216, step = 9101 (0.446 sec)\n",
      "INFO:tensorflow:global_step/sec: 225.463\n",
      "INFO:tensorflow:loss = 29.059095, step = 9201 (0.442 sec)\n",
      "INFO:tensorflow:global_step/sec: 224.815\n",
      "INFO:tensorflow:loss = 48.21695, step = 9301 (0.447 sec)\n",
      "INFO:tensorflow:global_step/sec: 230.19\n",
      "INFO:tensorflow:loss = 31.3499, step = 9401 (0.433 sec)\n",
      "INFO:tensorflow:global_step/sec: 229.137\n",
      "INFO:tensorflow:loss = 37.58715, step = 9501 (0.437 sec)\n",
      "INFO:tensorflow:global_step/sec: 226.853\n",
      "INFO:tensorflow:loss = 106.43091, step = 9601 (0.442 sec)\n",
      "INFO:tensorflow:global_step/sec: 225.211\n",
      "INFO:tensorflow:loss = 34.7259, step = 9701 (0.443 sec)\n",
      "INFO:tensorflow:global_step/sec: 230.36\n",
      "INFO:tensorflow:loss = 45.062508, step = 9801 (0.434 sec)\n",
      "INFO:tensorflow:global_step/sec: 223.071\n",
      "INFO:tensorflow:loss = 22.704391, step = 9901 (0.448 sec)\n",
      "INFO:tensorflow:global_step/sec: 219.165\n",
      "INFO:tensorflow:loss = 44.84235, step = 10001 (0.456 sec)\n",
      "INFO:tensorflow:global_step/sec: 219.056\n",
      "INFO:tensorflow:loss = 38.353195, step = 10101 (0.457 sec)\n",
      "INFO:tensorflow:global_step/sec: 237.602\n",
      "INFO:tensorflow:loss = 111.18254, step = 10201 (0.421 sec)\n",
      "INFO:tensorflow:global_step/sec: 204.846\n",
      "INFO:tensorflow:loss = 61.687256, step = 10301 (0.488 sec)\n",
      "INFO:tensorflow:global_step/sec: 210.177\n",
      "INFO:tensorflow:loss = 60.276524, step = 10401 (0.477 sec)\n",
      "INFO:tensorflow:global_step/sec: 220.098\n",
      "INFO:tensorflow:loss = 222.95883, step = 10501 (0.453 sec)\n",
      "INFO:tensorflow:global_step/sec: 248.217\n",
      "INFO:tensorflow:loss = 30.485794, step = 10601 (0.402 sec)\n",
      "INFO:tensorflow:global_step/sec: 251.297\n",
      "INFO:tensorflow:loss = 217.09724, step = 10701 (0.399 sec)\n",
      "INFO:tensorflow:global_step/sec: 241.028\n",
      "INFO:tensorflow:loss = 42.603523, step = 10801 (0.414 sec)\n",
      "INFO:tensorflow:global_step/sec: 232.61\n",
      "INFO:tensorflow:loss = 43.157295, step = 10901 (0.430 sec)\n",
      "INFO:tensorflow:global_step/sec: 263.202\n",
      "INFO:tensorflow:loss = 25.696198, step = 11001 (0.381 sec)\n",
      "INFO:tensorflow:global_step/sec: 259.845\n",
      "INFO:tensorflow:loss = 44.3785, step = 11101 (0.383 sec)\n",
      "INFO:tensorflow:global_step/sec: 249.978\n",
      "INFO:tensorflow:loss = 32.13403, step = 11201 (0.402 sec)\n",
      "INFO:tensorflow:global_step/sec: 257.024\n",
      "INFO:tensorflow:loss = 93.988106, step = 11301 (0.388 sec)\n",
      "INFO:tensorflow:global_step/sec: 257.096\n",
      "INFO:tensorflow:loss = 25.937649, step = 11401 (0.389 sec)\n",
      "INFO:tensorflow:global_step/sec: 261.618\n",
      "INFO:tensorflow:loss = 290.0814, step = 11501 (0.382 sec)\n",
      "INFO:tensorflow:global_step/sec: 251.853\n",
      "INFO:tensorflow:loss = 32.73508, step = 11601 (0.397 sec)\n",
      "INFO:tensorflow:global_step/sec: 251.943\n",
      "INFO:tensorflow:loss = 30.219837, step = 11701 (0.397 sec)\n",
      "INFO:tensorflow:global_step/sec: 250.043\n",
      "INFO:tensorflow:loss = 42.4366, step = 11801 (0.400 sec)\n",
      "INFO:tensorflow:global_step/sec: 246.298\n",
      "INFO:tensorflow:loss = 38.010216, step = 11901 (0.407 sec)\n",
      "INFO:tensorflow:global_step/sec: 247.553\n",
      "INFO:tensorflow:loss = 57.152405, step = 12001 (0.403 sec)\n",
      "INFO:tensorflow:global_step/sec: 238.417\n",
      "INFO:tensorflow:loss = 44.46756, step = 12101 (0.417 sec)\n",
      "INFO:tensorflow:global_step/sec: 242.699\n",
      "INFO:tensorflow:loss = 39.090363, step = 12201 (0.413 sec)\n",
      "INFO:tensorflow:global_step/sec: 245.566\n",
      "INFO:tensorflow:loss = 36.788986, step = 12301 (0.409 sec)\n",
      "INFO:tensorflow:global_step/sec: 254.699\n",
      "INFO:tensorflow:loss = 39.658215, step = 12401 (0.391 sec)\n",
      "INFO:tensorflow:global_step/sec: 246.449\n",
      "INFO:tensorflow:loss = 36.964287, step = 12501 (0.407 sec)\n",
      "INFO:tensorflow:global_step/sec: 249.772\n",
      "INFO:tensorflow:loss = 191.0885, step = 12601 (0.400 sec)\n",
      "INFO:tensorflow:global_step/sec: 246.71\n",
      "INFO:tensorflow:loss = 37.742966, step = 12701 (0.404 sec)\n",
      "INFO:tensorflow:global_step/sec: 251.69\n",
      "INFO:tensorflow:loss = 30.94964, step = 12801 (0.398 sec)\n",
      "INFO:tensorflow:global_step/sec: 244.664\n",
      "INFO:tensorflow:loss = 33.264782, step = 12901 (0.409 sec)\n",
      "INFO:tensorflow:global_step/sec: 237.958\n",
      "INFO:tensorflow:loss = 28.826424, step = 13001 (0.420 sec)\n",
      "INFO:tensorflow:global_step/sec: 245.445\n",
      "INFO:tensorflow:loss = 41.21344, step = 13101 (0.406 sec)\n",
      "INFO:tensorflow:global_step/sec: 245.766\n",
      "INFO:tensorflow:loss = 23.428272, step = 13201 (0.408 sec)\n",
      "INFO:tensorflow:global_step/sec: 245.466\n",
      "INFO:tensorflow:loss = 54.161057, step = 13301 (0.407 sec)\n",
      "INFO:tensorflow:global_step/sec: 246.681\n",
      "INFO:tensorflow:loss = 37.317715, step = 13401 (0.405 sec)\n",
      "INFO:tensorflow:global_step/sec: 244.744\n",
      "INFO:tensorflow:loss = 24.888344, step = 13501 (0.409 sec)\n",
      "INFO:tensorflow:global_step/sec: 237.346\n",
      "INFO:tensorflow:loss = 57.01058, step = 13601 (0.421 sec)\n",
      "INFO:tensorflow:global_step/sec: 246.272\n",
      "INFO:tensorflow:loss = 28.829622, step = 13701 (0.407 sec)\n",
      "INFO:tensorflow:global_step/sec: 250.474\n",
      "INFO:tensorflow:loss = 38.940094, step = 13801 (0.398 sec)\n",
      "INFO:tensorflow:global_step/sec: 239.15\n",
      "INFO:tensorflow:loss = 45.034546, step = 13901 (0.417 sec)\n",
      "INFO:tensorflow:global_step/sec: 248.152\n",
      "INFO:tensorflow:loss = 29.686283, step = 14001 (0.405 sec)\n",
      "INFO:tensorflow:global_step/sec: 252.154\n",
      "INFO:tensorflow:loss = 131.18265, step = 14101 (0.397 sec)\n",
      "INFO:tensorflow:global_step/sec: 244.17\n",
      "INFO:tensorflow:loss = 37.598816, step = 14201 (0.409 sec)\n",
      "INFO:tensorflow:global_step/sec: 250.205\n",
      "INFO:tensorflow:loss = 40.23481, step = 14301 (0.399 sec)\n",
      "INFO:tensorflow:global_step/sec: 243.459\n",
      "INFO:tensorflow:loss = 39.5458, step = 14401 (0.412 sec)\n",
      "INFO:tensorflow:global_step/sec: 250.698\n",
      "INFO:tensorflow:loss = 32.047096, step = 14501 (0.396 sec)\n",
      "INFO:tensorflow:global_step/sec: 244.166\n",
      "INFO:tensorflow:loss = 31.737274, step = 14601 (0.411 sec)\n",
      "INFO:tensorflow:global_step/sec: 248.688\n",
      "INFO:tensorflow:loss = 67.57504, step = 14701 (0.404 sec)\n",
      "INFO:tensorflow:global_step/sec: 240.841\n",
      "INFO:tensorflow:loss = 35.855156, step = 14801 (0.413 sec)\n",
      "INFO:tensorflow:global_step/sec: 247.566\n",
      "INFO:tensorflow:loss = 18.806152, step = 14901 (0.406 sec)\n",
      "INFO:tensorflow:global_step/sec: 249.873\n",
      "INFO:tensorflow:loss = 34.136658, step = 15001 (0.398 sec)\n",
      "INFO:tensorflow:global_step/sec: 249.239\n",
      "INFO:tensorflow:loss = 75.03786, step = 15101 (0.403 sec)\n",
      "INFO:tensorflow:global_step/sec: 250.952\n",
      "INFO:tensorflow:loss = 35.06749, step = 15201 (0.397 sec)\n",
      "INFO:tensorflow:global_step/sec: 248.459\n",
      "INFO:tensorflow:loss = 49.262253, step = 15301 (0.402 sec)\n",
      "INFO:tensorflow:global_step/sec: 243.062\n",
      "INFO:tensorflow:loss = 109.836975, step = 15401 (0.412 sec)\n",
      "INFO:tensorflow:global_step/sec: 247.935\n",
      "INFO:tensorflow:loss = 40.24111, step = 15501 (0.403 sec)\n",
      "INFO:tensorflow:global_step/sec: 242.004\n",
      "INFO:tensorflow:loss = 93.3139, step = 15601 (0.413 sec)\n",
      "INFO:tensorflow:global_step/sec: 249.289\n",
      "INFO:tensorflow:loss = 37.202858, step = 15701 (0.399 sec)\n",
      "INFO:tensorflow:global_step/sec: 247.824\n",
      "INFO:tensorflow:loss = 32.434982, step = 15801 (0.404 sec)\n",
      "INFO:tensorflow:global_step/sec: 246.966\n",
      "INFO:tensorflow:loss = 46.846004, step = 15901 (0.405 sec)\n",
      "INFO:tensorflow:global_step/sec: 239.219\n",
      "INFO:tensorflow:loss = 35.720768, step = 16001 (0.417 sec)\n",
      "INFO:tensorflow:global_step/sec: 248.483\n",
      "INFO:tensorflow:loss = 24.676613, step = 16101 (0.404 sec)\n",
      "INFO:tensorflow:global_step/sec: 251.907\n",
      "INFO:tensorflow:loss = 40.567253, step = 16201 (0.398 sec)\n"
     ]
    },
    {
     "name": "stdout",
     "output_type": "stream",
     "text": [
      "INFO:tensorflow:global_step/sec: 253.12\n",
      "INFO:tensorflow:loss = 41.724804, step = 16301 (0.395 sec)\n",
      "INFO:tensorflow:global_step/sec: 242.393\n",
      "INFO:tensorflow:loss = 32.73851, step = 16401 (0.412 sec)\n",
      "INFO:tensorflow:global_step/sec: 249.401\n",
      "INFO:tensorflow:loss = 28.931347, step = 16501 (0.402 sec)\n",
      "INFO:tensorflow:global_step/sec: 252.323\n",
      "INFO:tensorflow:loss = 30.137594, step = 16601 (0.396 sec)\n",
      "INFO:tensorflow:global_step/sec: 239.269\n",
      "INFO:tensorflow:loss = 29.919685, step = 16701 (0.417 sec)\n",
      "INFO:tensorflow:global_step/sec: 251.035\n",
      "INFO:tensorflow:loss = 53.132866, step = 16801 (0.398 sec)\n",
      "INFO:tensorflow:global_step/sec: 236.905\n",
      "INFO:tensorflow:loss = 54.5052, step = 16901 (0.422 sec)\n",
      "INFO:tensorflow:global_step/sec: 251.76\n",
      "INFO:tensorflow:loss = 36.24113, step = 17001 (0.397 sec)\n",
      "INFO:tensorflow:global_step/sec: 250.27\n",
      "INFO:tensorflow:loss = 31.506855, step = 17101 (0.400 sec)\n",
      "INFO:tensorflow:global_step/sec: 248.737\n",
      "INFO:tensorflow:loss = 49.19262, step = 17201 (0.403 sec)\n",
      "INFO:tensorflow:global_step/sec: 252.492\n",
      "INFO:tensorflow:loss = 38.756363, step = 17301 (0.395 sec)\n",
      "INFO:tensorflow:global_step/sec: 246.406\n",
      "INFO:tensorflow:loss = 47.202, step = 17401 (0.406 sec)\n",
      "INFO:tensorflow:global_step/sec: 252.331\n",
      "INFO:tensorflow:loss = 32.189354, step = 17501 (0.396 sec)\n",
      "INFO:tensorflow:global_step/sec: 243.294\n",
      "INFO:tensorflow:loss = 35.149387, step = 17601 (0.410 sec)\n",
      "INFO:tensorflow:global_step/sec: 242.74\n",
      "INFO:tensorflow:loss = 35.301575, step = 17701 (0.412 sec)\n",
      "INFO:tensorflow:global_step/sec: 243.037\n",
      "INFO:tensorflow:loss = 26.357876, step = 17801 (0.411 sec)\n",
      "INFO:tensorflow:global_step/sec: 247.371\n",
      "INFO:tensorflow:loss = 25.96533, step = 17901 (0.403 sec)\n",
      "INFO:tensorflow:global_step/sec: 248.277\n",
      "INFO:tensorflow:loss = 22.981106, step = 18001 (0.404 sec)\n",
      "INFO:tensorflow:global_step/sec: 248.767\n",
      "INFO:tensorflow:loss = 31.184643, step = 18101 (0.402 sec)\n",
      "INFO:tensorflow:global_step/sec: 245.448\n",
      "INFO:tensorflow:loss = 26.559082, step = 18201 (0.406 sec)\n",
      "INFO:tensorflow:global_step/sec: 249.685\n",
      "INFO:tensorflow:loss = 40.630283, step = 18301 (0.403 sec)\n",
      "INFO:tensorflow:global_step/sec: 251.626\n",
      "INFO:tensorflow:loss = 28.077658, step = 18401 (0.398 sec)\n",
      "INFO:tensorflow:global_step/sec: 251.448\n",
      "INFO:tensorflow:loss = 38.13152, step = 18501 (0.398 sec)\n",
      "INFO:tensorflow:global_step/sec: 247.808\n",
      "INFO:tensorflow:loss = 44.15238, step = 18601 (0.404 sec)\n",
      "INFO:tensorflow:global_step/sec: 248.861\n",
      "INFO:tensorflow:loss = 42.59339, step = 18701 (0.402 sec)\n",
      "INFO:tensorflow:global_step/sec: 222.65\n",
      "INFO:tensorflow:loss = 25.910204, step = 18801 (0.449 sec)\n",
      "INFO:tensorflow:global_step/sec: 217.973\n",
      "INFO:tensorflow:loss = 39.502514, step = 18901 (0.459 sec)\n",
      "INFO:tensorflow:global_step/sec: 221.723\n",
      "INFO:tensorflow:loss = 31.16996, step = 19001 (0.451 sec)\n",
      "INFO:tensorflow:global_step/sec: 221.831\n",
      "INFO:tensorflow:loss = 55.032745, step = 19101 (0.452 sec)\n",
      "INFO:tensorflow:global_step/sec: 228.785\n",
      "INFO:tensorflow:loss = 99.414894, step = 19201 (0.437 sec)\n",
      "INFO:tensorflow:global_step/sec: 229.001\n",
      "INFO:tensorflow:loss = 89.25573, step = 19301 (0.439 sec)\n",
      "INFO:tensorflow:global_step/sec: 191.833\n",
      "INFO:tensorflow:loss = 42.83294, step = 19401 (0.519 sec)\n",
      "INFO:tensorflow:global_step/sec: 220.575\n",
      "INFO:tensorflow:loss = 38.811516, step = 19501 (0.450 sec)\n",
      "INFO:tensorflow:global_step/sec: 163.871\n",
      "INFO:tensorflow:loss = 34.10869, step = 19601 (0.612 sec)\n",
      "INFO:tensorflow:global_step/sec: 131.637\n",
      "INFO:tensorflow:loss = 41.46598, step = 19701 (0.759 sec)\n",
      "INFO:tensorflow:global_step/sec: 165.674\n",
      "INFO:tensorflow:loss = 31.120396, step = 19801 (0.606 sec)\n",
      "INFO:tensorflow:global_step/sec: 208.023\n",
      "INFO:tensorflow:loss = 25.59459, step = 19901 (0.479 sec)\n",
      "INFO:tensorflow:global_step/sec: 248.803\n",
      "INFO:tensorflow:loss = 26.361887, step = 20001 (0.402 sec)\n",
      "INFO:tensorflow:global_step/sec: 236.028\n",
      "INFO:tensorflow:loss = 37.66667, step = 20101 (0.424 sec)\n",
      "INFO:tensorflow:global_step/sec: 228.816\n",
      "INFO:tensorflow:loss = 44.201912, step = 20201 (0.436 sec)\n",
      "INFO:tensorflow:global_step/sec: 224.815\n",
      "INFO:tensorflow:loss = 40.26886, step = 20301 (0.447 sec)\n",
      "INFO:tensorflow:global_step/sec: 226.847\n",
      "INFO:tensorflow:loss = 47.3412, step = 20401 (0.440 sec)\n",
      "INFO:tensorflow:global_step/sec: 216.08\n",
      "INFO:tensorflow:loss = 332.42572, step = 20501 (0.463 sec)\n",
      "INFO:tensorflow:global_step/sec: 227.511\n",
      "INFO:tensorflow:loss = 37.2416, step = 20601 (0.439 sec)\n",
      "INFO:tensorflow:global_step/sec: 224.763\n",
      "INFO:tensorflow:loss = 29.35587, step = 20701 (0.446 sec)\n",
      "INFO:tensorflow:global_step/sec: 218.896\n",
      "INFO:tensorflow:loss = 26.76881, step = 20801 (0.458 sec)\n",
      "INFO:tensorflow:global_step/sec: 224.437\n",
      "INFO:tensorflow:loss = 59.082684, step = 20901 (0.445 sec)\n",
      "INFO:tensorflow:global_step/sec: 222.873\n",
      "INFO:tensorflow:loss = 31.282013, step = 21001 (0.449 sec)\n",
      "INFO:tensorflow:global_step/sec: 230.459\n",
      "INFO:tensorflow:loss = 38.293022, step = 21101 (0.433 sec)\n",
      "INFO:tensorflow:global_step/sec: 232.103\n",
      "INFO:tensorflow:loss = 33.9609, step = 21201 (0.432 sec)\n",
      "INFO:tensorflow:global_step/sec: 211.458\n",
      "INFO:tensorflow:loss = 23.476633, step = 21301 (0.472 sec)\n",
      "INFO:tensorflow:global_step/sec: 212.097\n",
      "INFO:tensorflow:loss = 31.195162, step = 21401 (0.472 sec)\n",
      "INFO:tensorflow:global_step/sec: 244.555\n",
      "INFO:tensorflow:loss = 30.12674, step = 21501 (0.407 sec)\n",
      "INFO:tensorflow:global_step/sec: 232.703\n",
      "INFO:tensorflow:loss = 41.23394, step = 21601 (0.431 sec)\n",
      "INFO:tensorflow:global_step/sec: 252.388\n",
      "INFO:tensorflow:loss = 44.6454, step = 21701 (0.397 sec)\n",
      "INFO:tensorflow:global_step/sec: 259.09\n",
      "INFO:tensorflow:loss = 45.108963, step = 21801 (0.385 sec)\n",
      "INFO:tensorflow:global_step/sec: 239.084\n",
      "INFO:tensorflow:loss = 29.505074, step = 21901 (0.418 sec)\n",
      "INFO:tensorflow:global_step/sec: 250.168\n",
      "INFO:tensorflow:loss = 98.751785, step = 22001 (0.401 sec)\n",
      "INFO:tensorflow:global_step/sec: 251.892\n",
      "INFO:tensorflow:loss = 42.673935, step = 22101 (0.396 sec)\n",
      "INFO:tensorflow:global_step/sec: 249.463\n",
      "INFO:tensorflow:loss = 64.54796, step = 22201 (0.402 sec)\n",
      "INFO:tensorflow:global_step/sec: 245.251\n",
      "INFO:tensorflow:loss = 22.316257, step = 22301 (0.406 sec)\n",
      "INFO:tensorflow:global_step/sec: 249.369\n",
      "INFO:tensorflow:loss = 42.42789, step = 22401 (0.403 sec)\n",
      "INFO:tensorflow:global_step/sec: 248.199\n",
      "INFO:tensorflow:loss = 29.692171, step = 22501 (0.401 sec)\n",
      "INFO:tensorflow:global_step/sec: 243.88\n",
      "INFO:tensorflow:loss = 37.316994, step = 22601 (0.412 sec)\n",
      "INFO:tensorflow:global_step/sec: 249.576\n",
      "INFO:tensorflow:loss = 25.115496, step = 22701 (0.399 sec)\n",
      "INFO:tensorflow:global_step/sec: 251.742\n",
      "INFO:tensorflow:loss = 33.512238, step = 22801 (0.395 sec)\n",
      "INFO:tensorflow:global_step/sec: 243.53\n",
      "INFO:tensorflow:loss = 35.797813, step = 22901 (0.414 sec)\n",
      "INFO:tensorflow:global_step/sec: 246.099\n",
      "INFO:tensorflow:loss = 47.231613, step = 23001 (0.406 sec)\n",
      "INFO:tensorflow:global_step/sec: 214.423\n",
      "INFO:tensorflow:loss = 23.971437, step = 23101 (0.469 sec)\n",
      "INFO:tensorflow:global_step/sec: 215.167\n",
      "INFO:tensorflow:loss = 48.827213, step = 23201 (0.460 sec)\n",
      "INFO:tensorflow:global_step/sec: 248.171\n",
      "INFO:tensorflow:loss = 55.178253, step = 23301 (0.405 sec)\n",
      "INFO:tensorflow:global_step/sec: 251.755\n",
      "INFO:tensorflow:loss = 209.32964, step = 23401 (0.397 sec)\n",
      "INFO:tensorflow:global_step/sec: 260.435\n",
      "INFO:tensorflow:loss = 35.96247, step = 23501 (0.383 sec)\n",
      "INFO:tensorflow:global_step/sec: 246.912\n",
      "INFO:tensorflow:loss = 28.891216, step = 23601 (0.406 sec)\n",
      "INFO:tensorflow:global_step/sec: 259.09\n",
      "INFO:tensorflow:loss = 61.61997, step = 23701 (0.385 sec)\n",
      "INFO:tensorflow:global_step/sec: 250.31\n",
      "INFO:tensorflow:loss = 28.1705, step = 23801 (0.401 sec)\n",
      "INFO:tensorflow:global_step/sec: 239.456\n",
      "INFO:tensorflow:loss = 130.01828, step = 23901 (0.417 sec)\n",
      "INFO:tensorflow:global_step/sec: 252.729\n",
      "INFO:tensorflow:loss = 39.669357, step = 24001 (0.395 sec)\n",
      "INFO:tensorflow:global_step/sec: 250.365\n",
      "INFO:tensorflow:loss = 41.642845, step = 24101 (0.399 sec)\n",
      "INFO:tensorflow:global_step/sec: 251.649\n",
      "INFO:tensorflow:loss = 116.84567, step = 24201 (0.399 sec)\n",
      "INFO:tensorflow:global_step/sec: 251.829\n",
      "INFO:tensorflow:loss = 21.040966, step = 24301 (0.397 sec)\n",
      "INFO:tensorflow:global_step/sec: 243.342\n",
      "INFO:tensorflow:loss = 32.05165, step = 24401 (0.410 sec)\n",
      "INFO:tensorflow:global_step/sec: 253.432\n",
      "INFO:tensorflow:loss = 74.029144, step = 24501 (0.394 sec)\n"
     ]
    },
    {
     "name": "stdout",
     "output_type": "stream",
     "text": [
      "INFO:tensorflow:global_step/sec: 243.237\n",
      "INFO:tensorflow:loss = 52.439026, step = 24601 (0.413 sec)\n",
      "INFO:tensorflow:global_step/sec: 248.808\n",
      "INFO:tensorflow:loss = 33.413757, step = 24701 (0.402 sec)\n",
      "INFO:tensorflow:global_step/sec: 249.11\n",
      "INFO:tensorflow:loss = 38.402187, step = 24801 (0.401 sec)\n",
      "INFO:tensorflow:global_step/sec: 251.942\n",
      "INFO:tensorflow:loss = 106.115616, step = 24901 (0.395 sec)\n",
      "INFO:tensorflow:Saving checkpoints for 25000 into C:\\Users\\ptdem\\AppData\\Local\\Temp\\tmp5g7_gkzg\\model.ckpt.\n",
      "INFO:tensorflow:Loss for final step: 32.712963.\n"
     ]
    },
    {
     "data": {
      "text/plain": [
       "<tensorflow.python.estimator.canned.linear.LinearClassifier at 0x2b6f56d1160>"
      ]
     },
     "execution_count": 105,
     "metadata": {},
     "output_type": "execute_result"
    }
   ],
   "source": [
    "model.train(input_fn=input_func,steps=25000)"
   ]
  },
  {
   "cell_type": "markdown",
   "metadata": {},
   "source": [
    "### Evaluation\n",
    "\n",
    "** Create a prediction input function. Remember to only supprt X_test data and keep shuffle=False. **"
   ]
  },
  {
   "cell_type": "code",
   "execution_count": 107,
   "metadata": {},
   "outputs": [],
   "source": [
    "pred_fn = tf.estimator.inputs.pandas_input_fn(x=X_test,batch_size=len(X_test),shuffle=False)"
   ]
  },
  {
   "cell_type": "markdown",
   "metadata": {},
   "source": [
    "** Use model.predict() and pass in your input function. This will produce a generator of predictions, which you can then transform into a list, with list() **"
   ]
  },
  {
   "cell_type": "code",
   "execution_count": 109,
   "metadata": {},
   "outputs": [],
   "source": [
    "pred_gen = model.predict(input_fn=pred_fn)"
   ]
  },
  {
   "cell_type": "code",
   "execution_count": 110,
   "metadata": {},
   "outputs": [
    {
     "name": "stdout",
     "output_type": "stream",
     "text": [
      "INFO:tensorflow:Calling model_fn.\n",
      "INFO:tensorflow:Done calling model_fn.\n",
      "INFO:tensorflow:Graph was finalized.\n",
      "INFO:tensorflow:Restoring parameters from C:\\Users\\ptdem\\AppData\\Local\\Temp\\tmp5g7_gkzg\\model.ckpt-25000\n",
      "INFO:tensorflow:Running local_init_op.\n",
      "INFO:tensorflow:Done running local_init_op.\n"
     ]
    }
   ],
   "source": [
    "predictions = list(pred_gen)"
   ]
  },
  {
   "cell_type": "code",
   "execution_count": 112,
   "metadata": {},
   "outputs": [],
   "source": [
    "final_preds = [pred['class_ids'][0] for pred in predictions]"
   ]
  },
  {
   "cell_type": "markdown",
   "metadata": {},
   "source": [
    "** Each item in your list will look like this: **"
   ]
  },
  {
   "cell_type": "code",
   "execution_count": 114,
   "metadata": {},
   "outputs": [],
   "source": [
    "#final_preds"
   ]
  },
  {
   "cell_type": "markdown",
   "metadata": {},
   "source": [
    "** Create a list of only the class_ids key values from the prediction list of dictionaries, these are the predictions you will use to compare against the real y_test values. **"
   ]
  },
  {
   "cell_type": "code",
   "execution_count": 28,
   "metadata": {
    "collapsed": true
   },
   "outputs": [],
   "source": []
  },
  {
   "cell_type": "code",
   "execution_count": 30,
   "metadata": {},
   "outputs": [
    {
     "data": {
      "text/plain": [
       "[0, 0, 0, 0, 1, 0, 0, 0, 0, 0]"
      ]
     },
     "execution_count": 30,
     "metadata": {},
     "output_type": "execute_result"
    }
   ],
   "source": []
  },
  {
   "cell_type": "markdown",
   "metadata": {},
   "source": [
    "** Import classification_report from sklearn.metrics and then see if you can figure out how to use it to easily get a full report of your model's performance on the test data. **"
   ]
  },
  {
   "cell_type": "code",
   "execution_count": 115,
   "metadata": {},
   "outputs": [],
   "source": [
    "from sklearn.metrics import classification_report"
   ]
  },
  {
   "cell_type": "code",
   "execution_count": 117,
   "metadata": {},
   "outputs": [
    {
     "name": "stdout",
     "output_type": "stream",
     "text": [
      "             precision    recall  f1-score   support\n",
      "\n",
      "          0       0.89      0.92      0.90      7436\n",
      "          1       0.72      0.62      0.67      2333\n",
      "\n",
      "avg / total       0.85      0.85      0.85      9769\n",
      "\n"
     ]
    }
   ],
   "source": [
    "print(classification_report(y_test,final_preds))"
   ]
  },
  {
   "cell_type": "markdown",
   "metadata": {
    "collapsed": true
   },
   "source": [
    "# Great Job!"
   ]
  }
 ],
 "metadata": {
  "kernelspec": {
   "display_name": "Python 3",
   "language": "python",
   "name": "python3"
  },
  "language_info": {
   "codemirror_mode": {
    "name": "ipython",
    "version": 3
   },
   "file_extension": ".py",
   "mimetype": "text/x-python",
   "name": "python",
   "nbconvert_exporter": "python",
   "pygments_lexer": "ipython3",
   "version": "3.5.4"
  }
 },
 "nbformat": 4,
 "nbformat_minor": 2
}
