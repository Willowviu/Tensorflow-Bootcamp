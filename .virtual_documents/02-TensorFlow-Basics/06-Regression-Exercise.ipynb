











import pandas as pd


housing = pd.read_csv('cal_housing_clean.csv')


housing.head()


#


#


y_val = housing['medianHouseValue']


x_data = housing.drop('medianHouseValue',axis=1)


from sklearn.model_selection import train_test_split


X_train, X_test, y_train, y_test = train_test_split(x_data,y_val,test_size=0.3,random_state=101)





from sklearn.preprocessing import MinMaxScaler


scaler = MinMaxScaler()


scaler.fit(X_train)


X_train = pd.DataFrame(data=scaler.transform(X_train),columns=X_train.columns,index=X_train.index)


X_test = pd.DataFrame(data=scaler.transform(X_test),columns=X_test.columns,index=X_test.index)





scaler.transform(X_train)





housing.columns


import tensorflow as tf


age = tf.feature_column.numeric_column('housingMedianAge')


rooms = tf.feature_column.numeric_column('totalRooms')
bedroooms = tf.feature_column.numeric_column('totalBedrooms')
pop = tf.feature_column.numeric_column('population')
households = tf.feature_column.numeric_column('households')
income = tf.feature_column.numeric_column('medianIncome')













































