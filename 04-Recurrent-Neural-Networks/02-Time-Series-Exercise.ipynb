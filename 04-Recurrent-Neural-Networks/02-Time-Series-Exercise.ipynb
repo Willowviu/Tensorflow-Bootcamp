{
 "cells": [
  {
   "cell_type": "markdown",
   "metadata": {},
   "source": [
    "# Time Series Exercise - \n",
    "\n",
    "### Follow along with the instructions in bold. Watch the solutions video if you get stuck!"
   ]
  },
  {
   "cell_type": "markdown",
   "metadata": {},
   "source": [
    "## The Data\n",
    "\n",
    "** Source: https://datamarket.com/data/set/22ox/monthly-milk-production-pounds-per-cow-jan-62-dec-75#!ds=22ox&display=line **\n",
    "\n",
    "**Monthly milk production: pounds per cow. Jan 62 - Dec 75**"
   ]
  },
  {
   "cell_type": "markdown",
   "metadata": {},
   "source": [
    "** Import numpy pandas and matplotlib **"
   ]
  },
  {
   "cell_type": "code",
   "execution_count": 1,
   "metadata": {},
   "outputs": [],
   "source": [
    "import numpy as np\n",
    "import pandas as pd\n",
    "import matplotlib.pyplot as plt\n",
    "%matplotlib inline"
   ]
  },
  {
   "cell_type": "markdown",
   "metadata": {},
   "source": [
    "** Use pandas to read the csv of the monthly-milk-production.csv file and set index_col='Month' **"
   ]
  },
  {
   "cell_type": "code",
   "execution_count": 2,
   "metadata": {},
   "outputs": [],
   "source": [
    "milk = pd.read_csv('monthly-milk-production.csv', index_col='Month')"
   ]
  },
  {
   "cell_type": "markdown",
   "metadata": {},
   "source": [
    "** Check out the head of the dataframe**"
   ]
  },
  {
   "cell_type": "code",
   "execution_count": 3,
   "metadata": {},
   "outputs": [
    {
     "data": {
      "text/html": [
       "<div>\n",
       "<style>\n",
       "    .dataframe thead tr:only-child th {\n",
       "        text-align: right;\n",
       "    }\n",
       "\n",
       "    .dataframe thead th {\n",
       "        text-align: left;\n",
       "    }\n",
       "\n",
       "    .dataframe tbody tr th {\n",
       "        vertical-align: top;\n",
       "    }\n",
       "</style>\n",
       "<table border=\"1\" class=\"dataframe\">\n",
       "  <thead>\n",
       "    <tr style=\"text-align: right;\">\n",
       "      <th></th>\n",
       "      <th>Milk Production</th>\n",
       "    </tr>\n",
       "    <tr>\n",
       "      <th>Month</th>\n",
       "      <th></th>\n",
       "    </tr>\n",
       "  </thead>\n",
       "  <tbody>\n",
       "    <tr>\n",
       "      <th>1962-01-01 01:00:00</th>\n",
       "      <td>589.0</td>\n",
       "    </tr>\n",
       "    <tr>\n",
       "      <th>1962-02-01 01:00:00</th>\n",
       "      <td>561.0</td>\n",
       "    </tr>\n",
       "    <tr>\n",
       "      <th>1962-03-01 01:00:00</th>\n",
       "      <td>640.0</td>\n",
       "    </tr>\n",
       "    <tr>\n",
       "      <th>1962-04-01 01:00:00</th>\n",
       "      <td>656.0</td>\n",
       "    </tr>\n",
       "    <tr>\n",
       "      <th>1962-05-01 01:00:00</th>\n",
       "      <td>727.0</td>\n",
       "    </tr>\n",
       "  </tbody>\n",
       "</table>\n",
       "</div>"
      ],
      "text/plain": [
       "                     Milk Production\n",
       "Month                               \n",
       "1962-01-01 01:00:00            589.0\n",
       "1962-02-01 01:00:00            561.0\n",
       "1962-03-01 01:00:00            640.0\n",
       "1962-04-01 01:00:00            656.0\n",
       "1962-05-01 01:00:00            727.0"
      ]
     },
     "execution_count": 3,
     "metadata": {},
     "output_type": "execute_result"
    }
   ],
   "source": [
    "milk.head()"
   ]
  },
  {
   "cell_type": "markdown",
   "metadata": {},
   "source": [
    "** Make the index a time series by using: **\n",
    "\n",
    "    milk.index = pd.to_datetime(milk.index)"
   ]
  },
  {
   "cell_type": "code",
   "execution_count": 4,
   "metadata": {},
   "outputs": [],
   "source": [
    "milk.index = pd.to_datetime(milk.index)"
   ]
  },
  {
   "cell_type": "markdown",
   "metadata": {},
   "source": [
    "** Plot out the time series data. **"
   ]
  },
  {
   "cell_type": "code",
   "execution_count": 5,
   "metadata": {},
   "outputs": [
    {
     "data": {
      "text/plain": [
       "<matplotlib.axes._subplots.AxesSubplot at 0x1375b97d278>"
      ]
     },
     "execution_count": 5,
     "metadata": {},
     "output_type": "execute_result"
    },
    {
     "data": {
      "image/png": "[encoded data removed]",
      "text/plain": [
       "<matplotlib.figure.Figure at 0x1375a958710>"
      ]
     },
     "metadata": {
      "needs_background": "light"
     },
     "output_type": "display_data"
    }
   ],
   "source": [
    "milk.plot()"
   ]
  },
  {
   "cell_type": "markdown",
   "metadata": {},
   "source": [
    "___"
   ]
  },
  {
   "cell_type": "markdown",
   "metadata": {},
   "source": [
    "### Train Test Split\n",
    "\n",
    "** Let's attempt to predict a year's worth of data. (12 months or 12 steps into the future) **\n",
    "\n",
    "** Create a test train split using indexing (hint: use .head() or tail() or .iloc[]). We don't want a random train test split, we want to specify that the test set is the last 12 months of data is the test set, with everything before it is the training. **"
   ]
  },
  {
   "cell_type": "code",
   "execution_count": 6,
   "metadata": {},
   "outputs": [
    {
     "name": "stdout",
     "output_type": "stream",
     "text": [
      "<class 'pandas.core.frame.DataFrame'>\n",
      "DatetimeIndex: 168 entries, 1962-01-01 01:00:00 to 1975-12-01 01:00:00\n",
      "Data columns (total 1 columns):\n",
      "Milk Production    168 non-null float64\n",
      "dtypes: float64(1)\n",
      "memory usage: 2.6 KB\n"
     ]
    }
   ],
   "source": [
    "milk.info()"
   ]
  },
  {
   "cell_type": "code",
   "execution_count": 7,
   "metadata": {},
   "outputs": [],
   "source": [
    "train_set = milk.head(156)"
   ]
  },
  {
   "cell_type": "code",
   "execution_count": 8,
   "metadata": {},
   "outputs": [],
   "source": [
    "test_set = milk.tail(12)"
   ]
  },
  {
   "cell_type": "markdown",
   "metadata": {},
   "source": [
    "### Scale the Data\n",
    "\n",
    "** Use sklearn.preprocessing to scale the data using the MinMaxScaler. Remember to only fit_transform on the training data, then transform the test data. You shouldn't fit on the test data as well, otherwise you are assuming you would know about future behavior!**"
   ]
  },
  {
   "cell_type": "code",
   "execution_count": 9,
   "metadata": {},
   "outputs": [],
   "source": [
    "from sklearn.preprocessing import MinMaxScaler"
   ]
  },
  {
   "cell_type": "code",
   "execution_count": 10,
   "metadata": {},
   "outputs": [],
   "source": [
    "scaler = MinMaxScaler()"
   ]
  },
  {
   "cell_type": "code",
   "execution_count": 11,
   "metadata": {},
   "outputs": [],
   "source": [
    "train_scaled = scaler.fit_transform(train_set)"
   ]
  },
  {
   "cell_type": "code",
   "execution_count": 12,
   "metadata": {},
   "outputs": [],
   "source": [
    "test_scaled = scaler.transform(test_set)"
   ]
  },
  {
   "cell_type": "markdown",
   "metadata": {},
   "source": [
    "## Batch Function\n",
    "\n",
    "** We'll need a function that can feed batches of the training data. We'll need to do several things that are listed out as steps in the comments of the function. Remember to reference the previous batch method from the lecture for hints. Try to fill out the function template below, this is a pretty hard step, so feel free to reference the solutions! **"
   ]
  },
  {
   "cell_type": "code",
   "execution_count": 13,
   "metadata": {},
   "outputs": [],
   "source": [
    "def next_batch(training_data,batch_size,steps):\n",
    "    \"\"\"\n",
    "    INPUT: Data, Batch Size, Time Steps per batch\n",
    "    OUTPUT: A tuple of y time series results. y[:,:-1] and y[:,1:]\n",
    "    \"\"\"\n",
    "    \n",
    "    # STEP 1: Use np.random.randint to set a random starting point index for the batch.\n",
    "    # Remember that each batch needs have the same number of steps in it.\n",
    "    # This means you should limit the starting point to len(data)-steps\n",
    "    rand_start = np.random.randint(0,len(training_data)-steps)\n",
    "    \n",
    "    # STEP 2: Now that you have a starting index you'll need to index the data from\n",
    "    # the random start to random start + steps + 1. Then reshape this data to be (1,steps+1)\n",
    "    y_batch = np.array(training_data[rand_start:rand_start+steps+1]).reshape(1,steps+1)\n",
    "    \n",
    "    # STEP 3: Return the batches. You'll have two batches to return y[:,:-1] and y[:,1:]\n",
    "    # You'll need to reshape these into tensors for the RNN to .reshape(-1,steps,1)\n",
    "    return y_batch[:,:-1].reshape(-1,steps,1) , y_batch[:,1:].reshape(-1,steps,1)\n",
    "    "
   ]
  },
  {
   "cell_type": "code",
   "execution_count": null,
   "metadata": {},
   "outputs": [],
   "source": []
  },
  {
   "cell_type": "markdown",
   "metadata": {},
   "source": [
    "## Setting Up The RNN Model"
   ]
  },
  {
   "cell_type": "markdown",
   "metadata": {},
   "source": [
    "** Import TensorFlow **"
   ]
  },
  {
   "cell_type": "code",
   "execution_count": 14,
   "metadata": {},
   "outputs": [],
   "source": [
    "import tensorflow as tf"
   ]
  },
  {
   "cell_type": "markdown",
   "metadata": {},
   "source": [
    "### The Constants\n",
    "\n",
    "** Define the constants in a single cell. You'll need the following (in parenthesis are the values I used in my solution, but you can play with some of these): **\n",
    "* Number of Inputs (1)\n",
    "* Number of Time Steps (12)\n",
    "* Number of Neurons per Layer (100)\n",
    "* Number of Outputs (1)\n",
    "* Learning Rate (0.03)\n",
    "* Number of Iterations for Training (4000)\n",
    "* Batch Size (1)"
   ]
  },
  {
   "cell_type": "code",
   "execution_count": 15,
   "metadata": {},
   "outputs": [],
   "source": [
    "num_inputs = 1\n",
    "\n",
    "num_time_steps = 12\n",
    "\n",
    "num_neurons = 100\n",
    "\n",
    "num_outputs = 1\n",
    "\n",
    "learning_rate = 0.001\n",
    "num_train_iterations = 6000\n",
    "\n",
    "batch_size = 1"
   ]
  },
  {
   "cell_type": "markdown",
   "metadata": {},
   "source": [
    "** Create Placeholders for X and y. (You can change the variable names if you want). The shape for these placeholders should be [None,num_time_steps-1,num_inputs] and [None, num_time_steps-1, num_outputs] The reason we use num_time_steps-1 is because each of these will be one step shorter than the original time steps size, because we are training the RNN network to predict one point into the future based on the input sequence.**  "
   ]
  },
  {
   "cell_type": "code",
   "execution_count": 16,
   "metadata": {},
   "outputs": [],
   "source": [
    "X = tf.placeholder(tf.float32,[None,num_time_steps,num_inputs])\n",
    "y = tf.placeholder(tf.float32,[None,num_time_steps,num_outputs])"
   ]
  },
  {
   "cell_type": "markdown",
   "metadata": {},
   "source": [
    "** Now create the RNN Layer, you have complete freedom over this, use tf.contrib.rnn and choose anything you want, OutputProjectionWrappers, BasicRNNCells, BasicLSTMCells, MultiRNNCell, GRUCell etc... Keep in mind not every combination will work well! (If in doubt, the solutions used an Outputprojection Wrapper around a basic LSTM cell with relu activation.**"
   ]
  },
  {
   "cell_type": "code",
   "execution_count": 17,
   "metadata": {},
   "outputs": [],
   "source": [
    "cell = tf.contrib.rnn.OutputProjectionWrapper(\n",
    "        tf.contrib.rnn.GRUCell(num_units=num_neurons,activation=tf.nn.relu),\n",
    "        output_size=num_outputs)"
   ]
  },
  {
   "cell_type": "markdown",
   "metadata": {},
   "source": [
    "** Now pass in the cells variable into tf.nn.dynamic_rnn, along with your first placeholder (X)**"
   ]
  },
  {
   "cell_type": "code",
   "execution_count": 18,
   "metadata": {},
   "outputs": [],
   "source": [
    "outputs , states = tf.nn.dynamic_rnn(cell,X,dtype=tf.float32)"
   ]
  },
  {
   "cell_type": "markdown",
   "metadata": {},
   "source": [
    "### Loss Function and Optimizer\n",
    "\n",
    "** Create a Mean Squared Error Loss Function and use it to minimize an AdamOptimizer, remember to pass in your learning rate. **"
   ]
  },
  {
   "cell_type": "code",
   "execution_count": 19,
   "metadata": {},
   "outputs": [],
   "source": [
    "loss = tf.reduce_mean(tf.square(outputs-y))\n",
    "optimizer = tf.train.AdamOptimizer(learning_rate=learning_rate)\n",
    "train = optimizer.minimize(loss)"
   ]
  },
  {
   "cell_type": "markdown",
   "metadata": {},
   "source": [
    "** Initialize the global variables **"
   ]
  },
  {
   "cell_type": "code",
   "execution_count": 20,
   "metadata": {},
   "outputs": [],
   "source": [
    "init = tf.global_variables_initializer()"
   ]
  },
  {
   "cell_type": "markdown",
   "metadata": {},
   "source": [
    "** Create an instance of tf.train.Saver() **"
   ]
  },
  {
   "cell_type": "code",
   "execution_count": 21,
   "metadata": {},
   "outputs": [],
   "source": [
    "saver = tf.train.Saver()"
   ]
  },
  {
   "cell_type": "markdown",
   "metadata": {},
   "source": [
    "### Session\n",
    "\n",
    "** Run a tf.Session that trains on the batches created by your next_batch function. Also add an a loss evaluation for every 100 training iterations. Remember to save your model after you are done training. **"
   ]
  },
  {
   "cell_type": "code",
   "execution_count": 22,
   "metadata": {},
   "outputs": [],
   "source": [
    "gpu_options = tf.GPUOptions(per_process_gpu_memory_fraction=0.9)"
   ]
  },
  {
   "cell_type": "code",
   "execution_count": 23,
   "metadata": {},
   "outputs": [
    {
     "name": "stdout",
     "output_type": "stream",
     "text": [
      "0 \tMSE: 0.06337032\n",
      "100 \tMSE: 0.021174334\n",
      "200 \tMSE: 0.03211712\n",
      "300 \tMSE: 0.020409912\n",
      "400 \tMSE: 0.01069221\n",
      "500 \tMSE: 0.0066235363\n",
      "600 \tMSE: 0.009587909\n",
      "700 \tMSE: 0.012432173\n",
      "800 \tMSE: 0.009728211\n",
      "900 \tMSE: 0.010110333\n",
      "1000 \tMSE: 0.011589064\n",
      "1100 \tMSE: 0.007588789\n",
      "1200 \tMSE: 0.006261458\n",
      "1300 \tMSE: 0.0057408116\n",
      "1400 \tMSE: 0.008663944\n",
      "1500 \tMSE: 0.00806443\n",
      "1600 \tMSE: 0.009804077\n",
      "1700 \tMSE: 0.008184887\n",
      "1800 \tMSE: 0.005744642\n",
      "1900 \tMSE: 0.0071554803\n",
      "2000 \tMSE: 0.0063759424\n",
      "2100 \tMSE: 0.0032845605\n",
      "2200 \tMSE: 0.0063564386\n",
      "2300 \tMSE: 0.004788307\n",
      "2400 \tMSE: 0.0047081714\n",
      "2500 \tMSE: 0.0095135765\n",
      "2600 \tMSE: 0.004851811\n",
      "2700 \tMSE: 0.005407959\n",
      "2800 \tMSE: 0.0045491294\n",
      "2900 \tMSE: 0.004552489\n",
      "3000 \tMSE: 0.004141767\n",
      "3100 \tMSE: 0.0059072115\n",
      "3200 \tMSE: 0.005891118\n",
      "3300 \tMSE: 0.007816595\n",
      "3400 \tMSE: 0.0046369173\n",
      "3500 \tMSE: 0.0030533876\n",
      "3600 \tMSE: 0.005786288\n",
      "3700 \tMSE: 0.0026841927\n",
      "3800 \tMSE: 0.004084345\n",
      "3900 \tMSE: 0.00770773\n",
      "4000 \tMSE: 0.0044334014\n",
      "4100 \tMSE: 0.0035019282\n",
      "4200 \tMSE: 0.00615658\n",
      "4300 \tMSE: 0.0055329124\n",
      "4400 \tMSE: 0.006816961\n",
      "4500 \tMSE: 0.006832795\n",
      "4600 \tMSE: 0.004562105\n",
      "4700 \tMSE: 0.0034384672\n",
      "4800 \tMSE: 0.0051207687\n",
      "4900 \tMSE: 0.002949993\n",
      "5000 \tMSE: 0.0065158955\n",
      "5100 \tMSE: 0.006446119\n",
      "5200 \tMSE: 0.001968513\n",
      "5300 \tMSE: 0.0026714094\n",
      "5400 \tMSE: 0.007098055\n",
      "5500 \tMSE: 0.0035883263\n",
      "5600 \tMSE: 0.0034404479\n",
      "5700 \tMSE: 0.0034110856\n",
      "5800 \tMSE: 0.0036400568\n",
      "5900 \tMSE: 0.0014573353\n"
     ]
    }
   ],
   "source": [
    "with tf.Session(config=tf.ConfigProto(gpu_options=gpu_options)) as sess:\n",
    "    sess.run(init)\n",
    "    \n",
    "    for iteration in range(num_train_iterations):\n",
    "        \n",
    "        X_batch, y_batch = next_batch(train_scaled,batch_size,num_time_steps)\n",
    "        sess.run(train, feed_dict={X: X_batch, y: y_batch})\n",
    "        \n",
    "        if iteration % 100 == 0:\n",
    "            \n",
    "            mse = loss.eval(feed_dict={X: X_batch, y: y_batch})\n",
    "            print(iteration, \"\\tMSE:\", mse)\n",
    "    \n",
    "    # Save Model for Later\n",
    "    saver.save(sess, \"./ex_time_series_model_codealong\")"
   ]
  },
  {
   "cell_type": "markdown",
   "metadata": {},
   "source": [
    "______"
   ]
  },
  {
   "cell_type": "markdown",
   "metadata": {},
   "source": [
    "## Predicting Future (Test Data)"
   ]
  },
  {
   "cell_type": "markdown",
   "metadata": {},
   "source": [
    "** Show the test_set (the last 12 months of your original complete data set) **"
   ]
  },
  {
   "cell_type": "code",
   "execution_count": 24,
   "metadata": {},
   "outputs": [
    {
     "data": {
      "text/html": [
       "<div>\n",
       "<style>\n",
       "    .dataframe thead tr:only-child th {\n",
       "        text-align: right;\n",
       "    }\n",
       "\n",
       "    .dataframe thead th {\n",
       "        text-align: left;\n",
       "    }\n",
       "\n",
       "    .dataframe tbody tr th {\n",
       "        vertical-align: top;\n",
       "    }\n",
       "</style>\n",
       "<table border=\"1\" class=\"dataframe\">\n",
       "  <thead>\n",
       "    <tr style=\"text-align: right;\">\n",
       "      <th></th>\n",
       "      <th>Milk Production</th>\n",
       "    </tr>\n",
       "    <tr>\n",
       "      <th>Month</th>\n",
       "      <th></th>\n",
       "    </tr>\n",
       "  </thead>\n",
       "  <tbody>\n",
       "    <tr>\n",
       "      <th>1975-01-01 01:00:00</th>\n",
       "      <td>834.0</td>\n",
       "    </tr>\n",
       "    <tr>\n",
       "      <th>1975-02-01 01:00:00</th>\n",
       "      <td>782.0</td>\n",
       "    </tr>\n",
       "    <tr>\n",
       "      <th>1975-03-01 01:00:00</th>\n",
       "      <td>892.0</td>\n",
       "    </tr>\n",
       "    <tr>\n",
       "      <th>1975-04-01 01:00:00</th>\n",
       "      <td>903.0</td>\n",
       "    </tr>\n",
       "    <tr>\n",
       "      <th>1975-05-01 01:00:00</th>\n",
       "      <td>966.0</td>\n",
       "    </tr>\n",
       "    <tr>\n",
       "      <th>1975-06-01 01:00:00</th>\n",
       "      <td>937.0</td>\n",
       "    </tr>\n",
       "    <tr>\n",
       "      <th>1975-07-01 01:00:00</th>\n",
       "      <td>896.0</td>\n",
       "    </tr>\n",
       "    <tr>\n",
       "      <th>1975-08-01 01:00:00</th>\n",
       "      <td>858.0</td>\n",
       "    </tr>\n",
       "    <tr>\n",
       "      <th>1975-09-01 01:00:00</th>\n",
       "      <td>817.0</td>\n",
       "    </tr>\n",
       "    <tr>\n",
       "      <th>1975-10-01 01:00:00</th>\n",
       "      <td>827.0</td>\n",
       "    </tr>\n",
       "    <tr>\n",
       "      <th>1975-11-01 01:00:00</th>\n",
       "      <td>797.0</td>\n",
       "    </tr>\n",
       "    <tr>\n",
       "      <th>1975-12-01 01:00:00</th>\n",
       "      <td>843.0</td>\n",
       "    </tr>\n",
       "  </tbody>\n",
       "</table>\n",
       "</div>"
      ],
      "text/plain": [
       "                     Milk Production\n",
       "Month                               \n",
       "1975-01-01 01:00:00            834.0\n",
       "1975-02-01 01:00:00            782.0\n",
       "1975-03-01 01:00:00            892.0\n",
       "1975-04-01 01:00:00            903.0\n",
       "1975-05-01 01:00:00            966.0\n",
       "1975-06-01 01:00:00            937.0\n",
       "1975-07-01 01:00:00            896.0\n",
       "1975-08-01 01:00:00            858.0\n",
       "1975-09-01 01:00:00            817.0\n",
       "1975-10-01 01:00:00            827.0\n",
       "1975-11-01 01:00:00            797.0\n",
       "1975-12-01 01:00:00            843.0"
      ]
     },
     "execution_count": 24,
     "metadata": {},
     "output_type": "execute_result"
    }
   ],
   "source": [
    "test_set"
   ]
  },
  {
   "cell_type": "markdown",
   "metadata": {},
   "source": [
    "** Now we want to attempt to predict these 12 months of data, using only the training data we had. To do this we will feed in a seed training_instance of the last 12 months of the training_set of data to predict 12 months into the future. Then we will be able to compare our generated 12 months to our actual true historical values from the test set! **"
   ]
  },
  {
   "cell_type": "markdown",
   "metadata": {},
   "source": [
    "# Generative Session\n",
    "### NOTE: Recall that our model is really only trained to predict 1 time step ahead, asking it to generate 12 steps is a big ask, and technically not what it was trained to do! Think of this more as generating new values based off some previous pattern, rather than trying to directly predict the future. You would need to go back to the original model and train the model to predict 12 time steps ahead to really get a higher accuracy on the test data. (Which has its limits due to the smaller size of our data set)\n",
    "** Fill out the session code below to generate 12 months of data based off the last 12 months of data from the training set. The hardest part about this is adjusting the arrays with their shapes and sizes. Reference the lecture for hints.**"
   ]
  },
  {
   "cell_type": "code",
   "execution_count": 25,
   "metadata": {},
   "outputs": [
    {
     "name": "stdout",
     "output_type": "stream",
     "text": [
      "INFO:tensorflow:Restoring parameters from ./ex_time_series_model_codealong\n"
     ]
    }
   ],
   "source": [
    "with tf.Session() as sess:\n",
    "    \n",
    "    # Use your Saver instance to restore your saved rnn time series model\n",
    "    saver.restore(sess, \"./ex_time_series_model_codealong\")\n",
    "    \n",
    "    train_seed = list(train_scaled[-12:])\n",
    "    \n",
    "    for iteration in range(12):\n",
    "        X_batch = np.array(train_seed[-num_time_steps:]).reshape(1, num_time_steps, 1)\n",
    "        y_pred = sess.run(outputs, feed_dict={X: X_batch})\n",
    "        train_seed.append(y_pred[0, -1, 0])\n",
    "\n",
    "    # CODE HERE!"
   ]
  },
  {
   "cell_type": "markdown",
   "metadata": {},
   "source": [
    "** Show the result of the predictions. **"
   ]
  },
  {
   "cell_type": "code",
   "execution_count": 26,
   "metadata": {},
   "outputs": [
    {
     "data": {
      "text/plain": [
       "[array([0.66105769]),\n",
       " array([0.54086538]),\n",
       " array([0.80769231]),\n",
       " array([0.83894231]),\n",
       " array([1.]),\n",
       " array([0.94711538]),\n",
       " array([0.85336538]),\n",
       " array([0.75480769]),\n",
       " array([0.62980769]),\n",
       " array([0.62259615]),\n",
       " array([0.52884615]),\n",
       " array([0.625]),\n",
       " 0.7099202,\n",
       " 0.5969042,\n",
       " 0.84378487,\n",
       " 0.9232697,\n",
       " 1.0721824,\n",
       " 1.0138454,\n",
       " 0.8994828,\n",
       " 0.799506,\n",
       " 0.67909473,\n",
       " 0.67411107,\n",
       " 0.5771452,\n",
       " 0.68831897]"
      ]
     },
     "execution_count": 26,
     "metadata": {},
     "output_type": "execute_result"
    }
   ],
   "source": [
    "train_seed"
   ]
  },
  {
   "cell_type": "markdown",
   "metadata": {},
   "source": [
    "** Grab the portion of the results that are the generated values and apply inverse_transform on them to turn them back into milk production value units (lbs per cow). Also reshape the results to be (12,1) so we can easily add them to the test_set dataframe.**"
   ]
  },
  {
   "cell_type": "code",
   "execution_count": 27,
   "metadata": {},
   "outputs": [],
   "source": [
    "results = scaler.inverse_transform(np.array(train_seed[12:]).reshape(12,1))"
   ]
  },
  {
   "cell_type": "markdown",
   "metadata": {},
   "source": [
    "** Create a new column on the test_set called \"Generated\" and set it equal to the generated results. You may get a warning about this, feel free to ignore it.**"
   ]
  },
  {
   "cell_type": "code",
   "execution_count": 28,
   "metadata": {},
   "outputs": [
    {
     "name": "stderr",
     "output_type": "stream",
     "text": [
      "C:\\Users\\ptdem\\anaconda3\\envs\\tfdeeplearning\\lib\\site-packages\\ipykernel_launcher.py:1: SettingWithCopyWarning: \n",
      "A value is trying to be set on a copy of a slice from a DataFrame.\n",
      "Try using .loc[row_indexer,col_indexer] = value instead\n",
      "\n",
      "See the caveats in the documentation: http://pandas.pydata.org/pandas-docs/stable/indexing.html#indexing-view-versus-copy\n",
      "  \"\"\"Entry point for launching an IPython kernel.\n"
     ]
    }
   ],
   "source": [
    "test_set['Generated'] = results"
   ]
  },
  {
   "cell_type": "markdown",
   "metadata": {},
   "source": [
    "** View the test_set dataframe. **"
   ]
  },
  {
   "cell_type": "code",
   "execution_count": 29,
   "metadata": {},
   "outputs": [
    {
     "data": {
      "text/html": [
       "<div>\n",
       "<style>\n",
       "    .dataframe thead tr:only-child th {\n",
       "        text-align: right;\n",
       "    }\n",
       "\n",
       "    .dataframe thead th {\n",
       "        text-align: left;\n",
       "    }\n",
       "\n",
       "    .dataframe tbody tr th {\n",
       "        vertical-align: top;\n",
       "    }\n",
       "</style>\n",
       "<table border=\"1\" class=\"dataframe\">\n",
       "  <thead>\n",
       "    <tr style=\"text-align: right;\">\n",
       "      <th></th>\n",
       "      <th>Milk Production</th>\n",
       "      <th>Generated</th>\n",
       "    </tr>\n",
       "    <tr>\n",
       "      <th>Month</th>\n",
       "      <th></th>\n",
       "      <th></th>\n",
       "    </tr>\n",
       "  </thead>\n",
       "  <tbody>\n",
       "    <tr>\n",
       "      <th>1975-01-01 01:00:00</th>\n",
       "      <td>834.0</td>\n",
       "      <td>848.326782</td>\n",
       "    </tr>\n",
       "    <tr>\n",
       "      <th>1975-02-01 01:00:00</th>\n",
       "      <td>782.0</td>\n",
       "      <td>801.312134</td>\n",
       "    </tr>\n",
       "    <tr>\n",
       "      <th>1975-03-01 01:00:00</th>\n",
       "      <td>892.0</td>\n",
       "      <td>904.014465</td>\n",
       "    </tr>\n",
       "    <tr>\n",
       "      <th>1975-04-01 01:00:00</th>\n",
       "      <td>903.0</td>\n",
       "      <td>937.080200</td>\n",
       "    </tr>\n",
       "    <tr>\n",
       "      <th>1975-05-01 01:00:00</th>\n",
       "      <td>966.0</td>\n",
       "      <td>999.027832</td>\n",
       "    </tr>\n",
       "    <tr>\n",
       "      <th>1975-06-01 01:00:00</th>\n",
       "      <td>937.0</td>\n",
       "      <td>974.759705</td>\n",
       "    </tr>\n",
       "    <tr>\n",
       "      <th>1975-07-01 01:00:00</th>\n",
       "      <td>896.0</td>\n",
       "      <td>927.184814</td>\n",
       "    </tr>\n",
       "    <tr>\n",
       "      <th>1975-08-01 01:00:00</th>\n",
       "      <td>858.0</td>\n",
       "      <td>885.594482</td>\n",
       "    </tr>\n",
       "    <tr>\n",
       "      <th>1975-09-01 01:00:00</th>\n",
       "      <td>817.0</td>\n",
       "      <td>835.503418</td>\n",
       "    </tr>\n",
       "    <tr>\n",
       "      <th>1975-10-01 01:00:00</th>\n",
       "      <td>827.0</td>\n",
       "      <td>833.430176</td>\n",
       "    </tr>\n",
       "    <tr>\n",
       "      <th>1975-11-01 01:00:00</th>\n",
       "      <td>797.0</td>\n",
       "      <td>793.092407</td>\n",
       "    </tr>\n",
       "    <tr>\n",
       "      <th>1975-12-01 01:00:00</th>\n",
       "      <td>843.0</td>\n",
       "      <td>839.340698</td>\n",
       "    </tr>\n",
       "  </tbody>\n",
       "</table>\n",
       "</div>"
      ],
      "text/plain": [
       "                     Milk Production   Generated\n",
       "Month                                           \n",
       "1975-01-01 01:00:00            834.0  848.326782\n",
       "1975-02-01 01:00:00            782.0  801.312134\n",
       "1975-03-01 01:00:00            892.0  904.014465\n",
       "1975-04-01 01:00:00            903.0  937.080200\n",
       "1975-05-01 01:00:00            966.0  999.027832\n",
       "1975-06-01 01:00:00            937.0  974.759705\n",
       "1975-07-01 01:00:00            896.0  927.184814\n",
       "1975-08-01 01:00:00            858.0  885.594482\n",
       "1975-09-01 01:00:00            817.0  835.503418\n",
       "1975-10-01 01:00:00            827.0  833.430176\n",
       "1975-11-01 01:00:00            797.0  793.092407\n",
       "1975-12-01 01:00:00            843.0  839.340698"
      ]
     },
     "execution_count": 29,
     "metadata": {},
     "output_type": "execute_result"
    }
   ],
   "source": [
    "test_set"
   ]
  },
  {
   "cell_type": "markdown",
   "metadata": {},
   "source": [
    "** Plot out the two columns for comparison. **"
   ]
  },
  {
   "cell_type": "code",
   "execution_count": 30,
   "metadata": {},
   "outputs": [
    {
     "data": {
      "text/plain": [
       "<matplotlib.axes._subplots.AxesSubplot at 0x1376587fac8>"
      ]
     },
     "execution_count": 30,
     "metadata": {},
     "output_type": "execute_result"
    },
    {
     "data": {
      "image/png": "[encoded data removed]",
      "text/plain": [
       "<matplotlib.figure.Figure at 0x137624f7e48>"
      ]
     },
     "metadata": {
      "needs_background": "light"
     },
     "output_type": "display_data"
    }
   ],
   "source": [
    "test_set.plot()"
   ]
  },
  {
   "cell_type": "markdown",
   "metadata": {
    "collapsed": true
   },
   "source": [
    "# Great Job!\n",
    "\n",
    "Play around with the parameters and RNN layers, does a faster learning rate with more steps improve the model? What about GRU or BasicRNN units? What if you train the original model to not just predict one timestep ahead into the future, but 3 instead? Lots of stuff to add on here!"
   ]
  }
 ],
 "metadata": {
  "kernelspec": {
   "display_name": "Python 3",
   "language": "python",
   "name": "python3"
  },
  "language_info": {
   "codemirror_mode": {
    "name": "ipython",
    "version": 3
   },
   "file_extension": ".py",
   "mimetype": "text/x-python",
   "name": "python",
   "nbconvert_exporter": "python",
   "pygments_lexer": "ipython3",
   "version": "3.5.4"
  }
 },
 "nbformat": 4,
 "nbformat_minor": 2
}
